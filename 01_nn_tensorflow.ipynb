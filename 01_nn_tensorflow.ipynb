{
  "nbformat": 4,
  "nbformat_minor": 0,
  "metadata": {
    "colab": {
      "provenance": [],
      "gpuType": "T4"
    },
    "kernelspec": {
      "name": "python3",
      "display_name": "Python 3"
    },
    "language_info": {
      "name": "python"
    },
    "accelerator": "GPU"
  },
  "cells": [
    {
      "cell_type": "code",
      "execution_count": null,
      "metadata": {
        "colab": {
          "base_uri": "https://localhost:8080/"
        },
        "id": "X3w6Igi9NXWZ",
        "outputId": "c22af51c-9f9f-4c44-9065-5513e3292ff5"
      },
      "outputs": [
        {
          "output_type": "stream",
          "name": "stdout",
          "text": [
            "2.15.0\n"
          ]
        }
      ],
      "source": [
        "import tensorflow as tf\n",
        "\n",
        "print(tf.__version__)"
      ]
    },
    {
      "cell_type": "code",
      "source": [
        "import numpy as np\n",
        "A = np.array([-7,-4,-1,3,7,11,14,19,23,27],dtype= 'float')\n",
        "B = np.array([3,6,9,13,17,21,24,29,33,37], dtype='float')\n",
        "A,B"
      ],
      "metadata": {
        "colab": {
          "base_uri": "https://localhost:8080/"
        },
        "id": "UTgw4NfxsDsc",
        "outputId": "df57704f-abd7-422b-8032-0c28339f0a13"
      },
      "execution_count": null,
      "outputs": [
        {
          "output_type": "execute_result",
          "data": {
            "text/plain": [
              "(array([-7., -4., -1.,  3.,  7., 11., 14., 19., 23., 27.]),\n",
              " array([ 3.,  6.,  9., 13., 17., 21., 24., 29., 33., 37.]))"
            ]
          },
          "metadata": {},
          "execution_count": 16
        }
      ]
    },
    {
      "cell_type": "code",
      "source": [
        "A.dtype, B.dtype"
      ],
      "metadata": {
        "colab": {
          "base_uri": "https://localhost:8080/"
        },
        "id": "aDDX7qIUsfAb",
        "outputId": "d02c3922-73cd-40cf-cca9-42b71b1a5748"
      },
      "execution_count": null,
      "outputs": [
        {
          "output_type": "execute_result",
          "data": {
            "text/plain": [
              "(dtype('float64'), dtype('float64'))"
            ]
          },
          "metadata": {},
          "execution_count": 17
        }
      ]
    },
    {
      "cell_type": "code",
      "source": [
        "#convert to tensor\n",
        "\n",
        "X = tf.cast(tf.constant(A),dtype='float32')\n",
        "y = tf.cast(tf.constant(B),dtype='float32')\n",
        "\n",
        "X,y"
      ],
      "metadata": {
        "id": "jOE-IWZisig7",
        "colab": {
          "base_uri": "https://localhost:8080/"
        },
        "outputId": "0d646931-6918-46a6-8124-d773bd6ffb22"
      },
      "execution_count": null,
      "outputs": [
        {
          "output_type": "execute_result",
          "data": {
            "text/plain": [
              "(<tf.Tensor: shape=(10,), dtype=float32, numpy=array([-7., -4., -1.,  3.,  7., 11., 14., 19., 23., 27.], dtype=float32)>,\n",
              " <tf.Tensor: shape=(10,), dtype=float32, numpy=array([ 3.,  6.,  9., 13., 17., 21., 24., 29., 33., 37.], dtype=float32)>)"
            ]
          },
          "metadata": {},
          "execution_count": 18
        }
      ]
    },
    {
      "cell_type": "code",
      "source": [
        "#Step 1 - Build a model - define the input layer, hidden layer(s) and output layer using the Sequential API\n",
        "tf.random.set_seed(42)\n",
        "\n",
        "model = tf.keras.Sequential([\n",
        "    tf.keras.layers.Dense(1)\n",
        "])\n",
        "\n",
        "#Step 2 - Compile the model - specify the loss function, optimizer and performance metrics\n",
        "\n",
        "model.compile(\n",
        "                optimizer = tf.keras.optimizers.SGD(learning_rate=0.0001),\n",
        "                loss = tf.keras.losses.MeanAbsoluteError(),\n",
        "                metrics = tf.keras.metrics.MeanAbsoluteError()\n",
        ")\n",
        "\n",
        "#Step 3 - Fit/Train the model\n",
        "\n",
        "model.fit(tf.expand_dims(X,axis=-1),y,epochs=5)"
      ],
      "metadata": {
        "colab": {
          "base_uri": "https://localhost:8080/"
        },
        "id": "iysI2A8AuL5J",
        "outputId": "99949958-e7ce-4bfa-e4e9-c07091a1fcd4"
      },
      "execution_count": null,
      "outputs": [
        {
          "output_type": "stream",
          "name": "stdout",
          "text": [
            "Epoch 1/5\n",
            "1/1 [==============================] - 0s 461ms/step - loss: 7.1281 - mean_absolute_error: 7.1281\n",
            "Epoch 2/5\n",
            "1/1 [==============================] - 0s 12ms/step - loss: 7.1260 - mean_absolute_error: 7.1260\n",
            "Epoch 3/5\n",
            "1/1 [==============================] - 0s 9ms/step - loss: 7.1239 - mean_absolute_error: 7.1239\n",
            "Epoch 4/5\n",
            "1/1 [==============================] - 0s 10ms/step - loss: 7.1217 - mean_absolute_error: 7.1217\n",
            "Epoch 5/5\n",
            "1/1 [==============================] - 0s 10ms/step - loss: 7.1196 - mean_absolute_error: 7.1196\n"
          ]
        },
        {
          "output_type": "execute_result",
          "data": {
            "text/plain": [
              "<keras.src.callbacks.History at 0x7a1c41ad3070>"
            ]
          },
          "metadata": {},
          "execution_count": 19
        }
      ]
    },
    {
      "cell_type": "code",
      "source": [
        "model.predict([16.0])"
      ],
      "metadata": {
        "colab": {
          "base_uri": "https://localhost:8080/"
        },
        "id": "4s5-xzqH2Omr",
        "outputId": "67f4c09d-f36a-479e-c523-221585704493"
      },
      "execution_count": null,
      "outputs": [
        {
          "output_type": "stream",
          "name": "stdout",
          "text": [
            "1/1 [==============================] - 0s 92ms/step\n"
          ]
        },
        {
          "output_type": "execute_result",
          "data": {
            "text/plain": [
              "array([[26.843847]], dtype=float32)"
            ]
          },
          "metadata": {},
          "execution_count": 20
        }
      ]
    },
    {
      "cell_type": "code",
      "source": [
        "\"\"\"\n",
        "How to increase performance of a model:\n",
        "1. While creating a model - add more layers, increase no. of hidden units within each hidden layer, change the activation function of each layer\n",
        "2. While compiling a model - change the optimization function or its learning rate.\n",
        "3. While fitting a model - Add more epochs or more data\n",
        "\"\"\"\n"
      ],
      "metadata": {
        "id": "_deF2upnYjUx",
        "colab": {
          "base_uri": "https://localhost:8080/",
          "height": 71
        },
        "outputId": "98ff11ab-44a9-4ab6-9d73-982e092b27d2"
      },
      "execution_count": null,
      "outputs": [
        {
          "output_type": "execute_result",
          "data": {
            "text/plain": [
              "'\\nHow to increase performance of a model:\\n1. While creating a model - add more layers, increase no. of hidden units within each hidden layer, change the activation function of each layer\\n2. While compiling a model - change the optimization function or its learning rate.\\n3. While fitting a model - Add more epochs or more data\\n'"
            ],
            "application/vnd.google.colaboratory.intrinsic+json": {
              "type": "string"
            }
          },
          "metadata": {},
          "execution_count": 21
        }
      ]
    },
    {
      "cell_type": "code",
      "source": [
        "#1. Create a model\n",
        "\n",
        "model = tf.keras.Sequential([\n",
        "    tf.keras.layers.Dense(1)\n",
        "])\n",
        "\n",
        "#2. Compile the model\n",
        "model.compile(\n",
        "              optimizer = tf.keras.optimizers.Adam(learning_rate = 0.1),\n",
        "              loss = tf.keras.losses.MeanAbsoluteError(),\n",
        "              metrics = tf.keras.metrics.MeanAbsoluteError()\n",
        "              )\n",
        "\n",
        "#Fit the model\n",
        "model.fit(tf.expand_dims(X,axis=-1),y,epochs = 100)"
      ],
      "metadata": {
        "colab": {
          "base_uri": "https://localhost:8080/"
        },
        "id": "IjJwkwqgaGKe",
        "outputId": "cfa4ba07-bf83-4122-fc52-38ec1b57ded5"
      },
      "execution_count": null,
      "outputs": [
        {
          "output_type": "stream",
          "name": "stdout",
          "text": [
            "Epoch 1/100\n",
            "1/1 [==============================] - 0s 395ms/step - loss: 20.5473 - mean_absolute_error: 20.5473\n",
            "Epoch 2/100\n",
            "1/1 [==============================] - 0s 13ms/step - loss: 19.5273 - mean_absolute_error: 19.5273\n",
            "Epoch 3/100\n",
            "1/1 [==============================] - 0s 12ms/step - loss: 18.5073 - mean_absolute_error: 18.5073\n",
            "Epoch 4/100\n",
            "1/1 [==============================] - 0s 12ms/step - loss: 17.4873 - mean_absolute_error: 17.4873\n",
            "Epoch 5/100\n",
            "1/1 [==============================] - 0s 10ms/step - loss: 16.4673 - mean_absolute_error: 16.4673\n",
            "Epoch 6/100\n",
            "1/1 [==============================] - 0s 10ms/step - loss: 15.4473 - mean_absolute_error: 15.4473\n",
            "Epoch 7/100\n",
            "1/1 [==============================] - 0s 14ms/step - loss: 14.4273 - mean_absolute_error: 14.4273\n",
            "Epoch 8/100\n",
            "1/1 [==============================] - 0s 10ms/step - loss: 13.4073 - mean_absolute_error: 13.4073\n",
            "Epoch 9/100\n",
            "1/1 [==============================] - 0s 9ms/step - loss: 12.3873 - mean_absolute_error: 12.3873\n",
            "Epoch 10/100\n",
            "1/1 [==============================] - 0s 9ms/step - loss: 11.3673 - mean_absolute_error: 11.3673\n",
            "Epoch 11/100\n",
            "1/1 [==============================] - 0s 11ms/step - loss: 10.3474 - mean_absolute_error: 10.3474\n",
            "Epoch 12/100\n",
            "1/1 [==============================] - 0s 13ms/step - loss: 9.3274 - mean_absolute_error: 9.3274\n",
            "Epoch 13/100\n",
            "1/1 [==============================] - 0s 9ms/step - loss: 8.3074 - mean_absolute_error: 8.3074\n",
            "Epoch 14/100\n",
            "1/1 [==============================] - 0s 9ms/step - loss: 7.2874 - mean_absolute_error: 7.2874\n",
            "Epoch 15/100\n",
            "1/1 [==============================] - 0s 9ms/step - loss: 6.2674 - mean_absolute_error: 6.2674\n",
            "Epoch 16/100\n",
            "1/1 [==============================] - 0s 10ms/step - loss: 5.4565 - mean_absolute_error: 5.4565\n",
            "Epoch 17/100\n",
            "1/1 [==============================] - 0s 10ms/step - loss: 5.4253 - mean_absolute_error: 5.4253\n",
            "Epoch 18/100\n",
            "1/1 [==============================] - 0s 11ms/step - loss: 5.7532 - mean_absolute_error: 5.7532\n",
            "Epoch 19/100\n",
            "1/1 [==============================] - 0s 11ms/step - loss: 6.0362 - mean_absolute_error: 6.0362\n",
            "Epoch 20/100\n",
            "1/1 [==============================] - 0s 11ms/step - loss: 6.3751 - mean_absolute_error: 6.3751\n",
            "Epoch 21/100\n",
            "1/1 [==============================] - 0s 11ms/step - loss: 6.6030 - mean_absolute_error: 6.6030\n",
            "Epoch 22/100\n",
            "1/1 [==============================] - 0s 11ms/step - loss: 6.7327 - mean_absolute_error: 6.7327\n",
            "Epoch 23/100\n",
            "1/1 [==============================] - 0s 11ms/step - loss: 6.7753 - mean_absolute_error: 6.7753\n",
            "Epoch 24/100\n",
            "1/1 [==============================] - 0s 9ms/step - loss: 6.7406 - mean_absolute_error: 6.7406\n",
            "Epoch 25/100\n",
            "1/1 [==============================] - 0s 10ms/step - loss: 6.6371 - mean_absolute_error: 6.6371\n",
            "Epoch 26/100\n",
            "1/1 [==============================] - 0s 10ms/step - loss: 6.4722 - mean_absolute_error: 6.4722\n",
            "Epoch 27/100\n",
            "1/1 [==============================] - 0s 11ms/step - loss: 6.2526 - mean_absolute_error: 6.2526\n",
            "Epoch 28/100\n",
            "1/1 [==============================] - 0s 9ms/step - loss: 5.9840 - mean_absolute_error: 5.9840\n",
            "Epoch 29/100\n",
            "1/1 [==============================] - 0s 13ms/step - loss: 5.6716 - mean_absolute_error: 5.6716\n",
            "Epoch 30/100\n",
            "1/1 [==============================] - 0s 10ms/step - loss: 5.3756 - mean_absolute_error: 5.3756\n",
            "Epoch 31/100\n",
            "1/1 [==============================] - 0s 10ms/step - loss: 5.1350 - mean_absolute_error: 5.1350\n",
            "Epoch 32/100\n",
            "1/1 [==============================] - 0s 13ms/step - loss: 4.8872 - mean_absolute_error: 4.8872\n",
            "Epoch 33/100\n",
            "1/1 [==============================] - 0s 10ms/step - loss: 4.7024 - mean_absolute_error: 4.7024\n",
            "Epoch 34/100\n",
            "1/1 [==============================] - 0s 9ms/step - loss: 4.6306 - mean_absolute_error: 4.6306\n",
            "Epoch 35/100\n",
            "1/1 [==============================] - 0s 9ms/step - loss: 4.7317 - mean_absolute_error: 4.7317\n",
            "Epoch 36/100\n",
            "1/1 [==============================] - 0s 10ms/step - loss: 4.9386 - mean_absolute_error: 4.9386\n",
            "Epoch 37/100\n",
            "1/1 [==============================] - 0s 10ms/step - loss: 5.0394 - mean_absolute_error: 5.0394\n",
            "Epoch 38/100\n",
            "1/1 [==============================] - 0s 10ms/step - loss: 5.0031 - mean_absolute_error: 5.0031\n",
            "Epoch 39/100\n",
            "1/1 [==============================] - 0s 12ms/step - loss: 4.8455 - mean_absolute_error: 4.8455\n",
            "Epoch 40/100\n",
            "1/1 [==============================] - 0s 9ms/step - loss: 4.5805 - mean_absolute_error: 4.5805\n",
            "Epoch 41/100\n",
            "1/1 [==============================] - 0s 11ms/step - loss: 4.3579 - mean_absolute_error: 4.3579\n",
            "Epoch 42/100\n",
            "1/1 [==============================] - 0s 14ms/step - loss: 4.2450 - mean_absolute_error: 4.2450\n",
            "Epoch 43/100\n",
            "1/1 [==============================] - 0s 12ms/step - loss: 4.2127 - mean_absolute_error: 4.2127\n",
            "Epoch 44/100\n",
            "1/1 [==============================] - 0s 13ms/step - loss: 4.2457 - mean_absolute_error: 4.2457\n",
            "Epoch 45/100\n",
            "1/1 [==============================] - 0s 12ms/step - loss: 4.2827 - mean_absolute_error: 4.2827\n",
            "Epoch 46/100\n",
            "1/1 [==============================] - 0s 10ms/step - loss: 4.2853 - mean_absolute_error: 4.2853\n",
            "Epoch 47/100\n",
            "1/1 [==============================] - 0s 10ms/step - loss: 4.2565 - mean_absolute_error: 4.2565\n",
            "Epoch 48/100\n",
            "1/1 [==============================] - 0s 12ms/step - loss: 4.1990 - mean_absolute_error: 4.1990\n",
            "Epoch 49/100\n",
            "1/1 [==============================] - 0s 10ms/step - loss: 4.1155 - mean_absolute_error: 4.1155\n",
            "Epoch 50/100\n",
            "1/1 [==============================] - 0s 10ms/step - loss: 4.0082 - mean_absolute_error: 4.0082\n",
            "Epoch 51/100\n",
            "1/1 [==============================] - 0s 10ms/step - loss: 3.8791 - mean_absolute_error: 3.8791\n",
            "Epoch 52/100\n",
            "1/1 [==============================] - 0s 11ms/step - loss: 3.7515 - mean_absolute_error: 3.7515\n",
            "Epoch 53/100\n",
            "1/1 [==============================] - 0s 11ms/step - loss: 3.6869 - mean_absolute_error: 3.6869\n",
            "Epoch 54/100\n",
            "1/1 [==============================] - 0s 12ms/step - loss: 3.6226 - mean_absolute_error: 3.6226\n",
            "Epoch 55/100\n",
            "1/1 [==============================] - 0s 13ms/step - loss: 3.6186 - mean_absolute_error: 3.6186\n",
            "Epoch 56/100\n",
            "1/1 [==============================] - 0s 12ms/step - loss: 3.6111 - mean_absolute_error: 3.6111\n",
            "Epoch 57/100\n",
            "1/1 [==============================] - 0s 9ms/step - loss: 3.5746 - mean_absolute_error: 3.5746\n",
            "Epoch 58/100\n",
            "1/1 [==============================] - 0s 13ms/step - loss: 3.5118 - mean_absolute_error: 3.5118\n",
            "Epoch 59/100\n",
            "1/1 [==============================] - 0s 12ms/step - loss: 3.4250 - mean_absolute_error: 3.4250\n",
            "Epoch 60/100\n",
            "1/1 [==============================] - 0s 10ms/step - loss: 3.3165 - mean_absolute_error: 3.3165\n",
            "Epoch 61/100\n",
            "1/1 [==============================] - 0s 18ms/step - loss: 3.2477 - mean_absolute_error: 3.2477\n",
            "Epoch 62/100\n",
            "1/1 [==============================] - 0s 12ms/step - loss: 3.2018 - mean_absolute_error: 3.2018\n",
            "Epoch 63/100\n",
            "1/1 [==============================] - 0s 10ms/step - loss: 3.1544 - mean_absolute_error: 3.1544\n",
            "Epoch 64/100\n",
            "1/1 [==============================] - 0s 12ms/step - loss: 3.1403 - mean_absolute_error: 3.1403\n",
            "Epoch 65/100\n",
            "1/1 [==============================] - 0s 11ms/step - loss: 3.1028 - mean_absolute_error: 3.1028\n",
            "Epoch 66/100\n",
            "1/1 [==============================] - 0s 10ms/step - loss: 3.0338 - mean_absolute_error: 3.0338\n",
            "Epoch 67/100\n",
            "1/1 [==============================] - 0s 10ms/step - loss: 2.9363 - mean_absolute_error: 2.9363\n",
            "Epoch 68/100\n",
            "1/1 [==============================] - 0s 10ms/step - loss: 2.8699 - mean_absolute_error: 2.8699\n",
            "Epoch 69/100\n",
            "1/1 [==============================] - 0s 11ms/step - loss: 2.8056 - mean_absolute_error: 2.8056\n",
            "Epoch 70/100\n",
            "1/1 [==============================] - 0s 9ms/step - loss: 2.7628 - mean_absolute_error: 2.7628\n",
            "Epoch 71/100\n",
            "1/1 [==============================] - 0s 10ms/step - loss: 2.7358 - mean_absolute_error: 2.7358\n",
            "Epoch 72/100\n",
            "1/1 [==============================] - 0s 12ms/step - loss: 2.6796 - mean_absolute_error: 2.6796\n",
            "Epoch 73/100\n",
            "1/1 [==============================] - 0s 13ms/step - loss: 2.5968 - mean_absolute_error: 2.5968\n",
            "Epoch 74/100\n",
            "1/1 [==============================] - 0s 10ms/step - loss: 2.5246 - mean_absolute_error: 2.5246\n",
            "Epoch 75/100\n",
            "1/1 [==============================] - 0s 13ms/step - loss: 2.4744 - mean_absolute_error: 2.4744\n",
            "Epoch 76/100\n",
            "1/1 [==============================] - 0s 11ms/step - loss: 2.4229 - mean_absolute_error: 2.4229\n",
            "Epoch 77/100\n",
            "1/1 [==============================] - 0s 10ms/step - loss: 2.3703 - mean_absolute_error: 2.3703\n",
            "Epoch 78/100\n",
            "1/1 [==============================] - 0s 11ms/step - loss: 2.3379 - mean_absolute_error: 2.3379\n",
            "Epoch 79/100\n",
            "1/1 [==============================] - 0s 9ms/step - loss: 2.2726 - mean_absolute_error: 2.2726\n",
            "Epoch 80/100\n",
            "1/1 [==============================] - 0s 9ms/step - loss: 2.1964 - mean_absolute_error: 2.1964\n",
            "Epoch 81/100\n",
            "1/1 [==============================] - 0s 9ms/step - loss: 2.1341 - mean_absolute_error: 2.1341\n",
            "Epoch 82/100\n",
            "1/1 [==============================] - 0s 9ms/step - loss: 2.0715 - mean_absolute_error: 2.0715\n",
            "Epoch 83/100\n",
            "1/1 [==============================] - 0s 9ms/step - loss: 2.0262 - mean_absolute_error: 2.0262\n",
            "Epoch 84/100\n",
            "1/1 [==============================] - 0s 9ms/step - loss: 1.9774 - mean_absolute_error: 1.9774\n",
            "Epoch 85/100\n",
            "1/1 [==============================] - 0s 11ms/step - loss: 1.8997 - mean_absolute_error: 1.8997\n",
            "Epoch 86/100\n",
            "1/1 [==============================] - 0s 11ms/step - loss: 1.8458 - mean_absolute_error: 1.8458\n",
            "Epoch 87/100\n",
            "1/1 [==============================] - 0s 11ms/step - loss: 1.7941 - mean_absolute_error: 1.7941\n",
            "Epoch 88/100\n",
            "1/1 [==============================] - 0s 12ms/step - loss: 1.7531 - mean_absolute_error: 1.7531\n",
            "Epoch 89/100\n",
            "1/1 [==============================] - 0s 12ms/step - loss: 1.6951 - mean_absolute_error: 1.6951\n",
            "Epoch 90/100\n",
            "1/1 [==============================] - 0s 13ms/step - loss: 1.6213 - mean_absolute_error: 1.6213\n",
            "Epoch 91/100\n",
            "1/1 [==============================] - 0s 10ms/step - loss: 1.5588 - mean_absolute_error: 1.5588\n",
            "Epoch 92/100\n",
            "1/1 [==============================] - 0s 10ms/step - loss: 1.4961 - mean_absolute_error: 1.4961\n",
            "Epoch 93/100\n",
            "1/1 [==============================] - 0s 13ms/step - loss: 1.4724 - mean_absolute_error: 1.4724\n",
            "Epoch 94/100\n",
            "1/1 [==============================] - 0s 13ms/step - loss: 1.4190 - mean_absolute_error: 1.4190\n",
            "Epoch 95/100\n",
            "1/1 [==============================] - 0s 13ms/step - loss: 1.3359 - mean_absolute_error: 1.3359\n",
            "Epoch 96/100\n",
            "1/1 [==============================] - 0s 18ms/step - loss: 1.2708 - mean_absolute_error: 1.2708\n",
            "Epoch 97/100\n",
            "1/1 [==============================] - 0s 12ms/step - loss: 1.2310 - mean_absolute_error: 1.2310\n",
            "Epoch 98/100\n",
            "1/1 [==============================] - 0s 11ms/step - loss: 1.1836 - mean_absolute_error: 1.1836\n",
            "Epoch 99/100\n",
            "1/1 [==============================] - 0s 11ms/step - loss: 1.1013 - mean_absolute_error: 1.1013\n",
            "Epoch 100/100\n",
            "1/1 [==============================] - 0s 10ms/step - loss: 1.0395 - mean_absolute_error: 1.0395\n"
          ]
        },
        {
          "output_type": "execute_result",
          "data": {
            "text/plain": [
              "<keras.src.callbacks.History at 0x7a1c4115de40>"
            ]
          },
          "metadata": {},
          "execution_count": 22
        }
      ]
    },
    {
      "cell_type": "code",
      "source": [
        "model.predict([16.0])"
      ],
      "metadata": {
        "colab": {
          "base_uri": "https://localhost:8080/"
        },
        "id": "1P09XuOecXhi",
        "outputId": "42af4d89-3fcf-40dc-d6e1-5fcfaca9232a"
      },
      "execution_count": null,
      "outputs": [
        {
          "output_type": "stream",
          "name": "stdout",
          "text": [
            "1/1 [==============================] - 0s 67ms/step\n"
          ]
        },
        {
          "output_type": "execute_result",
          "data": {
            "text/plain": [
              "array([[25.54675]], dtype=float32)"
            ]
          },
          "metadata": {},
          "execution_count": 23
        }
      ]
    },
    {
      "cell_type": "code",
      "source": [
        "\"\"\"\n",
        "  While evaluating a model, consider visualising the following:\n",
        "  The data - what data are we working with, what does it look like?\n",
        "  The model itself - what does our model look like?\n",
        "  The training of a model - how does a model perform while it learns?\n",
        "  The predictions of a model - how do a model's predictions line up against the ground truth?\n",
        "\"\"\""
      ],
      "metadata": {
        "id": "gC5a2CoSfLGn",
        "colab": {
          "base_uri": "https://localhost:8080/",
          "height": 71
        },
        "outputId": "eb6199bf-de74-4e7e-f45d-0dd5cce3c033"
      },
      "execution_count": null,
      "outputs": [
        {
          "output_type": "execute_result",
          "data": {
            "text/plain": [
              "\"\\n  While evaluating a model, consider visualising the following:\\n  The data - what data are we working with, what does it look like?\\n  The model itself - what does our model look like?\\n  The training of a model - how does a model perform while it learns?\\n  The predictions of a model - how do a model's predictions line up against the ground truth?\\n\""
            ],
            "application/vnd.google.colaboratory.intrinsic+json": {
              "type": "string"
            }
          },
          "metadata": {},
          "execution_count": 24
        }
      ]
    },
    {
      "cell_type": "code",
      "source": [
        "#Firsly make a new bigger dataset\n",
        "\n",
        "X = tf.range(-100,100,4)\n",
        "X"
      ],
      "metadata": {
        "colab": {
          "base_uri": "https://localhost:8080/"
        },
        "id": "Q0-tN9zgfyiS",
        "outputId": "017cb9a2-d1ae-4251-b055-e673d78791c7"
      },
      "execution_count": null,
      "outputs": [
        {
          "output_type": "execute_result",
          "data": {
            "text/plain": [
              "<tf.Tensor: shape=(50,), dtype=int32, numpy=\n",
              "array([-100,  -96,  -92,  -88,  -84,  -80,  -76,  -72,  -68,  -64,  -60,\n",
              "        -56,  -52,  -48,  -44,  -40,  -36,  -32,  -28,  -24,  -20,  -16,\n",
              "        -12,   -8,   -4,    0,    4,    8,   12,   16,   20,   24,   28,\n",
              "         32,   36,   40,   44,   48,   52,   56,   60,   64,   68,   72,\n",
              "         76,   80,   84,   88,   92,   96], dtype=int32)>"
            ]
          },
          "metadata": {},
          "execution_count": 25
        }
      ]
    },
    {
      "cell_type": "code",
      "source": [
        "y = X + 10\n",
        "y"
      ],
      "metadata": {
        "colab": {
          "base_uri": "https://localhost:8080/"
        },
        "id": "4d-50BLAghtw",
        "outputId": "3741c862-e11c-4947-ce1a-6290d15844fb"
      },
      "execution_count": null,
      "outputs": [
        {
          "output_type": "execute_result",
          "data": {
            "text/plain": [
              "<tf.Tensor: shape=(50,), dtype=int32, numpy=\n",
              "array([-90, -86, -82, -78, -74, -70, -66, -62, -58, -54, -50, -46, -42,\n",
              "       -38, -34, -30, -26, -22, -18, -14, -10,  -6,  -2,   2,   6,  10,\n",
              "        14,  18,  22,  26,  30,  34,  38,  42,  46,  50,  54,  58,  62,\n",
              "        66,  70,  74,  78,  82,  86,  90,  94,  98, 102, 106], dtype=int32)>"
            ]
          },
          "metadata": {},
          "execution_count": 26
        }
      ]
    },
    {
      "cell_type": "code",
      "source": [
        "import matplotlib.pyplot as plt\n",
        "plt.scatter(X,y)"
      ],
      "metadata": {
        "colab": {
          "base_uri": "https://localhost:8080/",
          "height": 448
        },
        "id": "6sraBiH4glyC",
        "outputId": "09e3f211-994d-4797-e584-8180bef23ce5"
      },
      "execution_count": null,
      "outputs": [
        {
          "output_type": "execute_result",
          "data": {
            "text/plain": [
              "<matplotlib.collections.PathCollection at 0x7a1c408338e0>"
            ]
          },
          "metadata": {},
          "execution_count": 27
        },
        {
          "output_type": "display_data",
          "data": {
            "text/plain": [
              "<Figure size 640x480 with 1 Axes>"
            ],
            "image/png": "[encoded data removed]"
          },
          "metadata": {}
        }
      ]
    },
    {
      "cell_type": "code",
      "source": [
        "\"\"\"\n",
        "  The 3 sets:\n",
        "    1. Training set - the dataset on which the model is trained/learns from. 70%-80%.\n",
        "    2. Validation set - the model is tuned/tweaked on this set. Generally 10-15%.\n",
        "    3. Test set - model is evaluated based on this set. 10-15%\n",
        "\"\"\""
      ],
      "metadata": {
        "id": "AbAFHq_ahNna",
        "colab": {
          "base_uri": "https://localhost:8080/",
          "height": 53
        },
        "outputId": "b90c0a9d-c1d7-4e96-8bd3-67b8c5f0264c"
      },
      "execution_count": null,
      "outputs": [
        {
          "output_type": "execute_result",
          "data": {
            "text/plain": [
              "'\\n  The 3 sets:\\n    1. Training set - the dataset on which the model is trained/learns from. 70%-80%.\\n    2. Validation set - the model is tuned/tweaked on this set. Generally 10-15%.\\n    3. Test set - model is evaluated based on this set. 10-15%\\n'"
            ],
            "application/vnd.google.colaboratory.intrinsic+json": {
              "type": "string"
            }
          },
          "metadata": {},
          "execution_count": 28
        }
      ]
    },
    {
      "cell_type": "code",
      "source": [
        "#Split into train and test sets\n",
        "\n",
        "X_train = X[:40]\n",
        "y_train = y[:40]\n",
        "\n",
        "X_test = X[40:]\n",
        "y_test = y[40:]\n",
        "\n",
        "X_train, y_train, X_test, y_test"
      ],
      "metadata": {
        "colab": {
          "base_uri": "https://localhost:8080/"
        },
        "id": "p79DUJqAiI6j",
        "outputId": "4a64cffc-19c3-4775-8748-3f5d40326ebe"
      },
      "execution_count": null,
      "outputs": [
        {
          "output_type": "execute_result",
          "data": {
            "text/plain": [
              "(<tf.Tensor: shape=(40,), dtype=int32, numpy=\n",
              " array([-100,  -96,  -92,  -88,  -84,  -80,  -76,  -72,  -68,  -64,  -60,\n",
              "         -56,  -52,  -48,  -44,  -40,  -36,  -32,  -28,  -24,  -20,  -16,\n",
              "         -12,   -8,   -4,    0,    4,    8,   12,   16,   20,   24,   28,\n",
              "          32,   36,   40,   44,   48,   52,   56], dtype=int32)>,\n",
              " <tf.Tensor: shape=(40,), dtype=int32, numpy=\n",
              " array([-90, -86, -82, -78, -74, -70, -66, -62, -58, -54, -50, -46, -42,\n",
              "        -38, -34, -30, -26, -22, -18, -14, -10,  -6,  -2,   2,   6,  10,\n",
              "         14,  18,  22,  26,  30,  34,  38,  42,  46,  50,  54,  58,  62,\n",
              "         66], dtype=int32)>,\n",
              " <tf.Tensor: shape=(10,), dtype=int32, numpy=array([60, 64, 68, 72, 76, 80, 84, 88, 92, 96], dtype=int32)>,\n",
              " <tf.Tensor: shape=(10,), dtype=int32, numpy=array([ 70,  74,  78,  82,  86,  90,  94,  98, 102, 106], dtype=int32)>)"
            ]
          },
          "metadata": {},
          "execution_count": 29
        }
      ]
    },
    {
      "cell_type": "code",
      "source": [
        "plt.scatter(X_train,y_train,c='b',label='Training data')\n",
        "plt.scatter(X_test,y_test,c='r',label='Test data')\n",
        "plt.legend()"
      ],
      "metadata": {
        "colab": {
          "base_uri": "https://localhost:8080/",
          "height": 448
        },
        "id": "aEtiZkefk0d8",
        "outputId": "988d0676-07f2-4ba6-9540-3528c3ae6439"
      },
      "execution_count": null,
      "outputs": [
        {
          "output_type": "execute_result",
          "data": {
            "text/plain": [
              "<matplotlib.legend.Legend at 0x7a1c405b4490>"
            ]
          },
          "metadata": {},
          "execution_count": 30
        },
        {
          "output_type": "display_data",
          "data": {
            "text/plain": [
              "<Figure size 640x480 with 1 Axes>"
            ],
            "image/png": "[encoded data removed]"
          },
          "metadata": {}
        }
      ]
    },
    {
      "cell_type": "markdown",
      "source": [
        "😃 - learnt how to use emojis here"
      ],
      "metadata": {
        "id": "zK2IhumfpRiq"
      }
    },
    {
      "cell_type": "code",
      "source": [
        "#Create a model\n",
        "model = tf.keras.Sequential([\n",
        "    tf.keras.layers.Dense(10,input_shape=[1],name='Input_Layer'),\n",
        "    tf.keras.layers.Dense(1,name='Output_Layer')\n",
        "],name='model_1')\n",
        "\n",
        "#Compile\n",
        "model.compile(optimizer = tf.keras.optimizers.SGD(),\n",
        "              loss = tf.keras.losses.MeanAbsoluteError(),\n",
        "              metrics = tf.keras.metrics.MeanAbsoluteError()\n",
        "              )\n"
      ],
      "metadata": {
        "id": "oc3EJounpdgh"
      },
      "execution_count": null,
      "outputs": []
    },
    {
      "cell_type": "code",
      "source": [
        "model.summary()"
      ],
      "metadata": {
        "colab": {
          "base_uri": "https://localhost:8080/"
        },
        "id": "2E8AiGvXqmEU",
        "outputId": "711c732f-40ce-415d-fe27-d0828438de51"
      },
      "execution_count": null,
      "outputs": [
        {
          "output_type": "stream",
          "name": "stdout",
          "text": [
            "Model: \"model_1\"\n",
            "_________________________________________________________________\n",
            " Layer (type)                Output Shape              Param #   \n",
            "=================================================================\n",
            " Input_Layer (Dense)         (None, 10)                20        \n",
            "                                                                 \n",
            " Output_Layer (Dense)        (None, 1)                 11        \n",
            "                                                                 \n",
            "=================================================================\n",
            "Total params: 31 (124.00 Byte)\n",
            "Trainable params: 31 (124.00 Byte)\n",
            "Non-trainable params: 0 (0.00 Byte)\n",
            "_________________________________________________________________\n"
          ]
        }
      ]
    },
    {
      "cell_type": "code",
      "source": [
        "#Train the model\n",
        "\n",
        "model.fit(tf.expand_dims(X_train,axis=-1),y_train,epochs=100,verbose = 0)"
      ],
      "metadata": {
        "colab": {
          "base_uri": "https://localhost:8080/"
        },
        "id": "39NAcrP3q4--",
        "outputId": "3bb35822-ec2e-4243-ebeb-486e7033011f"
      },
      "execution_count": null,
      "outputs": [
        {
          "output_type": "execute_result",
          "data": {
            "text/plain": [
              "<keras.src.callbacks.History at 0x7a1c4064c610>"
            ]
          },
          "metadata": {},
          "execution_count": 33
        }
      ]
    },
    {
      "cell_type": "code",
      "source": [
        "#Visualize the model\n",
        "from tensorflow.keras.utils import plot_model\n",
        "\n",
        "plot_model(model = model,show_shapes=True)"
      ],
      "metadata": {
        "colab": {
          "base_uri": "https://localhost:8080/",
          "height": 312
        },
        "id": "qSAGtz0ibt5c",
        "outputId": "65a4db28-c066-495b-8f3a-de86bddee1f1"
      },
      "execution_count": null,
      "outputs": [
        {
          "output_type": "execute_result",
          "data": {
            "image/png": "[encoded data removed]",
            "text/plain": [
              "<IPython.core.display.Image object>"
            ]
          },
          "metadata": {},
          "execution_count": 34
        }
      ]
    },
    {
      "cell_type": "code",
      "source": [
        "#Visualize the predictions\n",
        "\n",
        "y_pred = model.predict(X_test)\n",
        "y_pred"
      ],
      "metadata": {
        "colab": {
          "base_uri": "https://localhost:8080/"
        },
        "id": "P617XsPOeJYb",
        "outputId": "44c0f031-455b-4287-c2c5-f1d4bae171a7"
      },
      "execution_count": null,
      "outputs": [
        {
          "output_type": "stream",
          "name": "stdout",
          "text": [
            "1/1 [==============================] - 0s 52ms/step\n"
          ]
        },
        {
          "output_type": "execute_result",
          "data": {
            "text/plain": [
              "array([[35.090416],\n",
              "       [37.33371 ],\n",
              "       [39.577   ],\n",
              "       [41.82029 ],\n",
              "       [44.063576],\n",
              "       [46.30687 ],\n",
              "       [48.55016 ],\n",
              "       [50.79345 ],\n",
              "       [53.03674 ],\n",
              "       [55.28003 ]], dtype=float32)"
            ]
          },
          "metadata": {},
          "execution_count": 35
        }
      ]
    },
    {
      "cell_type": "code",
      "source": [
        "y_test"
      ],
      "metadata": {
        "colab": {
          "base_uri": "https://localhost:8080/"
        },
        "id": "ITvLMdV6fzed",
        "outputId": "062ad7a7-fcf8-4a4d-ac07-dcd9d2f65be7"
      },
      "execution_count": null,
      "outputs": [
        {
          "output_type": "execute_result",
          "data": {
            "text/plain": [
              "<tf.Tensor: shape=(10,), dtype=int32, numpy=array([ 70,  74,  78,  82,  86,  90,  94,  98, 102, 106], dtype=int32)>"
            ]
          },
          "metadata": {},
          "execution_count": 36
        }
      ]
    },
    {
      "cell_type": "code",
      "source": [
        "def pred_plot(train_data,\n",
        "              train_labels,\n",
        "              test_data,\n",
        "              test_labels,\n",
        "              predictions\n",
        "              ):\n",
        "  plt.figure(figsize=(10,7))\n",
        "\n",
        "  plt.scatter(train_data,train_labels,c = 'b',label='Training data')\n",
        "  plt.scatter(test_data,test_labels,c='g',label='Test data')\n",
        "  plt.scatter(test_data,predictions,c='r',label='Predicted data')\n",
        "\n",
        "  plt.legend()\n"
      ],
      "metadata": {
        "id": "chMQ0CtZhozd"
      },
      "execution_count": null,
      "outputs": []
    },
    {
      "cell_type": "code",
      "source": [
        "pred_plot(X_train,y_train,X_test,y_test,y_pred)"
      ],
      "metadata": {
        "colab": {
          "base_uri": "https://localhost:8080/",
          "height": 599
        },
        "id": "atFgN_NNirnF",
        "outputId": "d4dcc742-20b6-4ffa-eb4c-9f7b40fc653a"
      },
      "execution_count": null,
      "outputs": [
        {
          "output_type": "display_data",
          "data": {
            "text/plain": [
              "<Figure size 1000x700 with 1 Axes>"
            ],
            "image/png": "[encoded data removed]"
          },
          "metadata": {}
        }
      ]
    },
    {
      "cell_type": "code",
      "source": [
        "model.evaluate(X_test,y_test)"
      ],
      "metadata": {
        "colab": {
          "base_uri": "https://localhost:8080/"
        },
        "id": "BAVxA7ZtgD6x",
        "outputId": "f5cb4987-b3c8-44e6-ef63-25f9c333c97f"
      },
      "execution_count": null,
      "outputs": [
        {
          "output_type": "stream",
          "name": "stdout",
          "text": [
            "1/1 [==============================] - 0s 145ms/step - loss: 42.8148 - mean_absolute_error: 42.8148\n"
          ]
        },
        {
          "output_type": "execute_result",
          "data": {
            "text/plain": [
              "[42.81477737426758, 42.81477737426758]"
            ]
          },
          "metadata": {},
          "execution_count": 39
        }
      ]
    },
    {
      "cell_type": "code",
      "source": [
        "#Calculate mean absolute error\n",
        "\n",
        "\"\"\"\n",
        "  The MAE is a good starting point to evaluate any regression model\n",
        "\"\"\"\n",
        "\n",
        "mae = tf.keras.losses.mae(y_true = y_test,\n",
        "                          y_pred = tf.squeeze(tf.constant(y_pred)))\n",
        "mae"
      ],
      "metadata": {
        "colab": {
          "base_uri": "https://localhost:8080/"
        },
        "id": "cvvtNwgVhMFP",
        "outputId": "f2eb222c-783b-4f3f-b37b-4446a5edef24"
      },
      "execution_count": null,
      "outputs": [
        {
          "output_type": "execute_result",
          "data": {
            "text/plain": [
              "<tf.Tensor: shape=(), dtype=float32, numpy=42.814777>"
            ]
          },
          "metadata": {},
          "execution_count": 40
        }
      ]
    },
    {
      "cell_type": "code",
      "source": [
        "#Calculate the mean squared error\n",
        "\"\"\"\n",
        "  Use this when larger errors are more significant than the smaller errors.\n",
        "\"\"\"\n",
        "\n",
        "mse = tf.keras.losses.mean_squared_error(y_true = y_test,\n",
        "                                         y_pred = tf.squeeze(tf.constant(y_pred)))\n",
        "\n",
        "mse"
      ],
      "metadata": {
        "colab": {
          "base_uri": "https://localhost:8080/"
        },
        "id": "teh-18sGh3qR",
        "outputId": "e1f79e5e-4258-48c0-d7d3-efff43475110"
      },
      "execution_count": null,
      "outputs": [
        {
          "output_type": "execute_result",
          "data": {
            "text/plain": [
              "<tf.Tensor: shape=(), dtype=float32, numpy=1858.5648>"
            ]
          },
          "metadata": {},
          "execution_count": 41
        }
      ]
    },
    {
      "cell_type": "code",
      "source": [
        "#Calculate huber error\n",
        "\"\"\"\n",
        "  It is a combination of MAE and MSE. Less sensitive to outliers than MSE.\n",
        "\"\"\"\n",
        "\n",
        "huber = tf.keras.losses.huber(y_true = y_test,\n",
        "                              y_pred = tf.squeeze(tf.constant(y_pred)))\n",
        "huber"
      ],
      "metadata": {
        "colab": {
          "base_uri": "https://localhost:8080/"
        },
        "id": "ie99uay-jAqm",
        "outputId": "87a15f71-5575-4aa7-d9ab-dc81f8c27e6f"
      },
      "execution_count": null,
      "outputs": [
        {
          "output_type": "execute_result",
          "data": {
            "text/plain": [
              "<tf.Tensor: shape=(), dtype=float32, numpy=42.314777>"
            ]
          },
          "metadata": {},
          "execution_count": 42
        }
      ]
    },
    {
      "cell_type": "code",
      "source": [
        "#Create a custom function for evaluating errors\n",
        "\n",
        "def mae(y_true,y_pred):\n",
        "  return tf.keras.losses.mae(y_true = y_test,\n",
        "                          y_pred = tf.squeeze(tf.constant(y_pred)))\n",
        "\n",
        "def mse(y_true,y_pred):\n",
        "  return tf.keras.losses.mean_squared_error(y_true = y_test,\n",
        "                                         y_pred = tf.squeeze(tf.constant(y_pred)))\n",
        "\n",
        "def huber(y_true,y_pred):\n",
        "  return tf.keras.losses.huber(y_true = y_test,\n",
        "                              y_pred = tf.squeeze(tf.constant(y_pred)))"
      ],
      "metadata": {
        "id": "BsAFxNP0jcJJ"
      },
      "execution_count": null,
      "outputs": []
    },
    {
      "cell_type": "code",
      "source": [
        "\"\"\"\n",
        "  Let's experiment by building 3 models to increase performance.\n",
        "  model_1 : 1 layer, 1 neuron, 100 epochs\n",
        "  model_2 : 2 layers, 5 neurons in layer 1 and 1 neuron in output layer, 100 epochs\n",
        "  model_3 : 2 layers, 5 neurons in layer 1 and 1 neuron in output layer, 500 epochs\n",
        "\"\"\""
      ],
      "metadata": {
        "colab": {
          "base_uri": "https://localhost:8080/",
          "height": 53
        },
        "id": "ihdjQFN3jz2L",
        "outputId": "75c1b6fb-8d16-4583-cbed-aecaf2900a9c"
      },
      "execution_count": null,
      "outputs": [
        {
          "output_type": "execute_result",
          "data": {
            "text/plain": [
              "\"\\n  Let's experiment by building 3 models to increase performance.\\n  model_1 : 1 layer, 1 neuron, 100 epochs\\n  model_2 : 2 layers, 5 neurons in layer 1 and 1 neuron in output layer, 100 epochs\\n  model_3 : 2 layers, 5 neurons in layer 1 and 1 neuron in output layer, 500 epochs\\n\""
            ],
            "application/vnd.google.colaboratory.intrinsic+json": {
              "type": "string"
            }
          },
          "metadata": {},
          "execution_count": 44
        }
      ]
    },
    {
      "cell_type": "code",
      "source": [
        "#Build model_1\n",
        "\n",
        "tf.random.set_seed(101)\n",
        "#Create model\n",
        "model_1 = tf.keras.Sequential(\n",
        "    [\n",
        "        tf.keras.layers.Dense(1,input_shape=[1],name = 'layer_1')\n",
        "    ]\n",
        ")\n",
        "\n",
        "#Compile model\n",
        "model_1.compile(optimizer = tf.keras.optimizers.Adam(learning_rate=0.001),\n",
        "                loss = tf.keras.losses.MeanAbsoluteError(),\n",
        "                metrics = tf.keras.metrics.MeanAbsoluteError())\n",
        "\n"
      ],
      "metadata": {
        "id": "GVRrIdrD3bLT"
      },
      "execution_count": null,
      "outputs": []
    },
    {
      "cell_type": "code",
      "source": [
        "model_1.summary()"
      ],
      "metadata": {
        "colab": {
          "base_uri": "https://localhost:8080/"
        },
        "id": "LRLr6MlA5JdO",
        "outputId": "7902717c-3c67-4588-dc65-a986ed1f1260"
      },
      "execution_count": null,
      "outputs": [
        {
          "output_type": "stream",
          "name": "stdout",
          "text": [
            "Model: \"sequential_2\"\n",
            "_________________________________________________________________\n",
            " Layer (type)                Output Shape              Param #   \n",
            "=================================================================\n",
            " layer_1 (Dense)             (None, 1)                 2         \n",
            "                                                                 \n",
            "=================================================================\n",
            "Total params: 2 (8.00 Byte)\n",
            "Trainable params: 2 (8.00 Byte)\n",
            "Non-trainable params: 0 (0.00 Byte)\n",
            "_________________________________________________________________\n"
          ]
        }
      ]
    },
    {
      "cell_type": "code",
      "source": [
        "#Fit the model\n",
        "\n",
        "model_1.fit(X_train, y_train, epochs=100,verbose=False)"
      ],
      "metadata": {
        "colab": {
          "base_uri": "https://localhost:8080/"
        },
        "id": "68zGDItM5aoD",
        "outputId": "5828f137-0974-43c2-9a43-05df97fd3dd5"
      },
      "execution_count": null,
      "outputs": [
        {
          "output_type": "execute_result",
          "data": {
            "text/plain": [
              "<keras.src.callbacks.History at 0x7a1c404ea1a0>"
            ]
          },
          "metadata": {},
          "execution_count": 47
        }
      ]
    },
    {
      "cell_type": "code",
      "source": [
        "y_pred1 = model_1.predict(X_test)\n",
        "y_pred1"
      ],
      "metadata": {
        "colab": {
          "base_uri": "https://localhost:8080/"
        },
        "id": "yDTkSiMp5uy0",
        "outputId": "43c2e4d2-8836-40a5-f803-cf0c839a73c8"
      },
      "execution_count": null,
      "outputs": [
        {
          "output_type": "stream",
          "name": "stdout",
          "text": [
            "1/1 [==============================] - 0s 71ms/step\n"
          ]
        },
        {
          "output_type": "execute_result",
          "data": {
            "text/plain": [
              "array([[-61.19437 ],\n",
              "       [-65.265785],\n",
              "       [-69.337204],\n",
              "       [-73.40862 ],\n",
              "       [-77.480034],\n",
              "       [-81.55145 ],\n",
              "       [-85.62287 ],\n",
              "       [-89.69428 ],\n",
              "       [-93.7657  ],\n",
              "       [-97.83712 ]], dtype=float32)"
            ]
          },
          "metadata": {},
          "execution_count": 48
        }
      ]
    },
    {
      "cell_type": "code",
      "source": [
        "model_1.evaluate(X_test,y_test)"
      ],
      "metadata": {
        "colab": {
          "base_uri": "https://localhost:8080/"
        },
        "id": "5c-7dZkQ6DH0",
        "outputId": "0a891098-9d63-4c73-c223-5d5884783627"
      },
      "execution_count": null,
      "outputs": [
        {
          "output_type": "stream",
          "name": "stdout",
          "text": [
            "1/1 [==============================] - 0s 156ms/step - loss: 167.5157 - mean_absolute_error: 167.5157\n"
          ]
        },
        {
          "output_type": "execute_result",
          "data": {
            "text/plain": [
              "[167.5157470703125, 167.5157470703125]"
            ]
          },
          "metadata": {},
          "execution_count": 49
        }
      ]
    },
    {
      "cell_type": "code",
      "source": [
        "#Metrics for Model 1\n",
        "\n",
        "mae_1 = mae(y_true = y_test,\n",
        "            y_pred = y_pred1)\n",
        "\n",
        "mse_1 = mse(y_true = y_test,\n",
        "            y_pred = y_pred1)\n",
        "\n",
        "mae_1, mse_1"
      ],
      "metadata": {
        "colab": {
          "base_uri": "https://localhost:8080/"
        },
        "id": "Kf3WIHH_6NaD",
        "outputId": "3a86567a-41d5-4b8f-d258-62124e9c4de2"
      },
      "execution_count": null,
      "outputs": [
        {
          "output_type": "execute_result",
          "data": {
            "text/plain": [
              "(<tf.Tensor: shape=(), dtype=float32, numpy=167.51575>,\n",
              " <tf.Tensor: shape=(), dtype=float32, numpy=28598.994>)"
            ]
          },
          "metadata": {},
          "execution_count": 50
        }
      ]
    },
    {
      "cell_type": "code",
      "source": [
        "#Visualise Model 1\n",
        "\n",
        "pred_plot(train_data = X_train,\n",
        "          train_labels = y_train,\n",
        "          test_data = X_test,\n",
        "          test_labels = y_test,\n",
        "          predictions = y_pred1)"
      ],
      "metadata": {
        "colab": {
          "base_uri": "https://localhost:8080/",
          "height": 599
        },
        "id": "LaWv6UHz6pje",
        "outputId": "fd5949f0-6010-40ba-c956-b816566043eb"
      },
      "execution_count": null,
      "outputs": [
        {
          "output_type": "display_data",
          "data": {
            "text/plain": [
              "<Figure size 1000x700 with 1 Axes>"
            ],
            "image/png": "[encoded data removed]"
          },
          "metadata": {}
        }
      ]
    },
    {
      "cell_type": "code",
      "source": [
        "#Model 2\n",
        "\n",
        "tf.random.set_seed(101)\n",
        "#Create the model\n",
        "\n",
        "model_2 = tf.keras.Sequential([\n",
        "    tf.keras.layers.Dense(20,input_shape=[1],name='layer_1'),\n",
        "    tf.keras.layers.Dense(1,name = 'layer_2')\n",
        "])\n",
        "\n",
        "#Compile the model\n",
        "model_2.compile(optimizer = tf.keras.optimizers.Adam(learning_rate=0.001),\n",
        "                loss = tf.keras.losses.MeanAbsoluteError(),\n",
        "                metrics = tf.keras.metrics.MeanAbsoluteError())\n"
      ],
      "metadata": {
        "id": "_EkVV1i77NaM"
      },
      "execution_count": null,
      "outputs": []
    },
    {
      "cell_type": "code",
      "source": [
        "model_2.summary()"
      ],
      "metadata": {
        "colab": {
          "base_uri": "https://localhost:8080/"
        },
        "id": "s0y13_Ab8B6J",
        "outputId": "c33108ec-ac75-4daa-c7a7-a613a59fac45"
      },
      "execution_count": null,
      "outputs": [
        {
          "output_type": "stream",
          "name": "stdout",
          "text": [
            "Model: \"sequential_3\"\n",
            "_________________________________________________________________\n",
            " Layer (type)                Output Shape              Param #   \n",
            "=================================================================\n",
            " layer_1 (Dense)             (None, 20)                40        \n",
            "                                                                 \n",
            " layer_2 (Dense)             (None, 1)                 21        \n",
            "                                                                 \n",
            "=================================================================\n",
            "Total params: 61 (244.00 Byte)\n",
            "Trainable params: 61 (244.00 Byte)\n",
            "Non-trainable params: 0 (0.00 Byte)\n",
            "_________________________________________________________________\n"
          ]
        }
      ]
    },
    {
      "cell_type": "code",
      "source": [
        "plot_model(model = model_2,show_shapes = True)"
      ],
      "metadata": {
        "colab": {
          "base_uri": "https://localhost:8080/",
          "height": 312
        },
        "id": "1nJEiUcg8EwD",
        "outputId": "52147289-fc08-48e3-b9c8-b88b12c5ec30"
      },
      "execution_count": null,
      "outputs": [
        {
          "output_type": "execute_result",
          "data": {
            "image/png": "[encoded data removed]",
            "text/plain": [
              "<IPython.core.display.Image object>"
            ]
          },
          "metadata": {},
          "execution_count": 54
        }
      ]
    },
    {
      "cell_type": "code",
      "source": [
        "model_2.fit(X_train,y_train,epochs = 100, verbose=False)"
      ],
      "metadata": {
        "colab": {
          "base_uri": "https://localhost:8080/"
        },
        "id": "oYrKodjO8eq4",
        "outputId": "91835880-3654-4af0-e56c-e2217ee887b2"
      },
      "execution_count": null,
      "outputs": [
        {
          "output_type": "execute_result",
          "data": {
            "text/plain": [
              "<keras.src.callbacks.History at 0x7a1c407f4760>"
            ]
          },
          "metadata": {},
          "execution_count": 55
        }
      ]
    },
    {
      "cell_type": "code",
      "source": [
        "model_2.evaluate(X_test, y_test)"
      ],
      "metadata": {
        "colab": {
          "base_uri": "https://localhost:8080/"
        },
        "id": "inxZX8JW8oqU",
        "outputId": "6eba3614-3ae4-4b84-9713-43df1823424e"
      },
      "execution_count": null,
      "outputs": [
        {
          "output_type": "stream",
          "name": "stdout",
          "text": [
            "1/1 [==============================] - 0s 113ms/step - loss: 17.5147 - mean_absolute_error: 17.5147\n"
          ]
        },
        {
          "output_type": "execute_result",
          "data": {
            "text/plain": [
              "[17.51471519470215, 17.51471519470215]"
            ]
          },
          "metadata": {},
          "execution_count": 56
        }
      ]
    },
    {
      "cell_type": "code",
      "source": [
        "y_pred2 = model_2.predict(X_test)\n",
        "y_pred2"
      ],
      "metadata": {
        "colab": {
          "base_uri": "https://localhost:8080/"
        },
        "id": "ugIjO8nk8s14",
        "outputId": "4860b996-8d63-4f5a-cfcf-e388f19b5b72"
      },
      "execution_count": null,
      "outputs": [
        {
          "output_type": "stream",
          "name": "stderr",
          "text": [
            "WARNING:tensorflow:5 out of the last 5 calls to <function Model.make_predict_function.<locals>.predict_function at 0x7a1c4190a050> triggered tf.function retracing. Tracing is expensive and the excessive number of tracings could be due to (1) creating @tf.function repeatedly in a loop, (2) passing tensors with different shapes, (3) passing Python objects instead of tensors. For (1), please define your @tf.function outside of the loop. For (2), @tf.function has reduce_retracing=True option that can avoid unnecessary retracing. For (3), please refer to https://www.tensorflow.org/guide/function#controlling_retracing and https://www.tensorflow.org/api_docs/python/tf/function for  more details.\n"
          ]
        },
        {
          "output_type": "stream",
          "name": "stdout",
          "text": [
            "1/1 [==============================] - 0s 52ms/step\n"
          ]
        },
        {
          "output_type": "execute_result",
          "data": {
            "text/plain": [
              "array([[54.466793],\n",
              "       [58.02646 ],\n",
              "       [61.58612 ],\n",
              "       [65.14579 ],\n",
              "       [68.70545 ],\n",
              "       [72.26512 ],\n",
              "       [75.82479 ],\n",
              "       [79.384445],\n",
              "       [82.944115],\n",
              "       [86.50378 ]], dtype=float32)"
            ]
          },
          "metadata": {},
          "execution_count": 57
        }
      ]
    },
    {
      "cell_type": "code",
      "source": [
        "#Metrics for model 2\n",
        "\n",
        "mae_2 = mae(y_true = y_test, y_pred = y_pred2)\n",
        "\n",
        "mse_2 = mse(y_true = y_test, y_pred = y_pred2)\n",
        "\n",
        "mae_2, mse_2"
      ],
      "metadata": {
        "colab": {
          "base_uri": "https://localhost:8080/"
        },
        "id": "Pz3wp0U39MYv",
        "outputId": "6c45546f-07ca-4a3d-e5ef-d18ad0cf4eff"
      },
      "execution_count": null,
      "outputs": [
        {
          "output_type": "execute_result",
          "data": {
            "text/plain": [
              "(<tf.Tensor: shape=(), dtype=float32, numpy=17.514713>,\n",
              " <tf.Tensor: shape=(), dtype=float32, numpy=308.3648>)"
            ]
          },
          "metadata": {},
          "execution_count": 58
        }
      ]
    },
    {
      "cell_type": "code",
      "source": [
        "#Visualise model 2 results\n",
        "\n",
        "pred_plot(train_data = X_train,\n",
        "          train_labels = y_train,\n",
        "          test_data = X_test,\n",
        "          test_labels = y_test,\n",
        "          predictions = y_pred2)"
      ],
      "metadata": {
        "colab": {
          "base_uri": "https://localhost:8080/",
          "height": 599
        },
        "id": "H7fEoK2r9dgD",
        "outputId": "14d632ef-020d-4b37-b0d5-783787e9865c"
      },
      "execution_count": null,
      "outputs": [
        {
          "output_type": "display_data",
          "data": {
            "text/plain": [
              "<Figure size 1000x700 with 1 Axes>"
            ],
            "image/png": "[encoded data removed]"
          },
          "metadata": {}
        }
      ]
    },
    {
      "cell_type": "code",
      "source": [
        "#Build Model 3\n",
        "tf.random.set_seed(105)\n",
        "\n",
        "#Create model\n",
        "model_3 = tf.keras.Sequential([\n",
        "    tf.keras.layers.Dense(20,input_shape=[1],name='layer_1'),\n",
        "    tf.keras.layers.Dense(1,name = 'layer_2')\n",
        "])\n",
        "\n",
        "#Compile the model\n",
        "model_3.compile(optimizer = tf.keras.optimizers.Adam(learning_rate = 0.001),\n",
        "                loss = tf.keras.losses.MeanAbsoluteError(),\n",
        "                metrics = tf.keras.metrics.MeanAbsoluteError())"
      ],
      "metadata": {
        "id": "nuE8sOg19m9u"
      },
      "execution_count": null,
      "outputs": []
    },
    {
      "cell_type": "code",
      "source": [
        "model_3.summary()"
      ],
      "metadata": {
        "colab": {
          "base_uri": "https://localhost:8080/"
        },
        "id": "_HnlxMIR-H0S",
        "outputId": "bf05ee86-ab29-47d1-ffe9-ca436a991266"
      },
      "execution_count": null,
      "outputs": [
        {
          "output_type": "stream",
          "name": "stdout",
          "text": [
            "Model: \"sequential_4\"\n",
            "_________________________________________________________________\n",
            " Layer (type)                Output Shape              Param #   \n",
            "=================================================================\n",
            " layer_1 (Dense)             (None, 20)                40        \n",
            "                                                                 \n",
            " layer_2 (Dense)             (None, 1)                 21        \n",
            "                                                                 \n",
            "=================================================================\n",
            "Total params: 61 (244.00 Byte)\n",
            "Trainable params: 61 (244.00 Byte)\n",
            "Non-trainable params: 0 (0.00 Byte)\n",
            "_________________________________________________________________\n"
          ]
        }
      ]
    },
    {
      "cell_type": "code",
      "source": [
        "plot_model(model = model_3, show_shapes = True)"
      ],
      "metadata": {
        "colab": {
          "base_uri": "https://localhost:8080/",
          "height": 312
        },
        "id": "rHCiNNhx-JlV",
        "outputId": "80d462b0-ce32-4255-8bd7-5d9043c4ed00"
      },
      "execution_count": null,
      "outputs": [
        {
          "output_type": "execute_result",
          "data": {
            "image/png": "[encoded data removed]",
            "text/plain": [
              "<IPython.core.display.Image object>"
            ]
          },
          "metadata": {},
          "execution_count": 62
        }
      ]
    },
    {
      "cell_type": "code",
      "source": [
        "#Fit the model\n",
        "\n",
        "model_3.fit(X_train, y_train, epochs = 500, verbose = False)"
      ],
      "metadata": {
        "colab": {
          "base_uri": "https://localhost:8080/"
        },
        "id": "Wu2gFdxZ-R4G",
        "outputId": "bf52c395-ca1a-45c2-ffc3-bb24d275460e"
      },
      "execution_count": null,
      "outputs": [
        {
          "output_type": "execute_result",
          "data": {
            "text/plain": [
              "<keras.src.callbacks.History at 0x7a1c4186c7c0>"
            ]
          },
          "metadata": {},
          "execution_count": 63
        }
      ]
    },
    {
      "cell_type": "code",
      "source": [
        "y_pred3 = model_3.predict(X_test)\n",
        "y_pred3"
      ],
      "metadata": {
        "colab": {
          "base_uri": "https://localhost:8080/"
        },
        "id": "JjDmVud9-iur",
        "outputId": "62841234-9df4-4bef-c47e-40415e5ed313"
      },
      "execution_count": null,
      "outputs": [
        {
          "output_type": "stream",
          "name": "stderr",
          "text": [
            "WARNING:tensorflow:6 out of the last 6 calls to <function Model.make_predict_function.<locals>.predict_function at 0x7a1c4190ba30> triggered tf.function retracing. Tracing is expensive and the excessive number of tracings could be due to (1) creating @tf.function repeatedly in a loop, (2) passing tensors with different shapes, (3) passing Python objects instead of tensors. For (1), please define your @tf.function outside of the loop. For (2), @tf.function has reduce_retracing=True option that can avoid unnecessary retracing. For (3), please refer to https://www.tensorflow.org/guide/function#controlling_retracing and https://www.tensorflow.org/api_docs/python/tf/function for  more details.\n"
          ]
        },
        {
          "output_type": "stream",
          "name": "stdout",
          "text": [
            "1/1 [==============================] - 0s 59ms/step\n"
          ]
        },
        {
          "output_type": "execute_result",
          "data": {
            "text/plain": [
              "array([[ 68.99906],\n",
              "       [ 72.97338],\n",
              "       [ 76.9477 ],\n",
              "       [ 80.92202],\n",
              "       [ 84.89633],\n",
              "       [ 88.87066],\n",
              "       [ 92.84498],\n",
              "       [ 96.81928],\n",
              "       [100.7936 ],\n",
              "       [104.76794]], dtype=float32)"
            ]
          },
          "metadata": {},
          "execution_count": 64
        }
      ]
    },
    {
      "cell_type": "code",
      "source": [
        "#Metrics for model 3\n",
        "\n",
        "mae_3 = mae(y_true = y_test, y_pred = y_pred3)\n",
        "\n",
        "mse_3 = mse(y_true = y_test, y_pred = y_pred3)\n",
        "\n",
        "mae_3, mse_3"
      ],
      "metadata": {
        "colab": {
          "base_uri": "https://localhost:8080/"
        },
        "id": "JvTV2YKd-rYQ",
        "outputId": "b15ab446-7c01-4b36-e023-c181d8df9610"
      },
      "execution_count": null,
      "outputs": [
        {
          "output_type": "execute_result",
          "data": {
            "text/plain": [
              "(<tf.Tensor: shape=(), dtype=float32, numpy=1.1165047>,\n",
              " <tf.Tensor: shape=(), dtype=float32, numpy=1.2520239>)"
            ]
          },
          "metadata": {},
          "execution_count": 65
        }
      ]
    },
    {
      "cell_type": "code",
      "source": [
        "#Visualise model 3\n",
        "\n",
        "pred_plot(train_data = X_train,\n",
        "          train_labels = y_train,\n",
        "          test_data = X_test,\n",
        "          test_labels = y_test,\n",
        "          predictions = y_pred3)"
      ],
      "metadata": {
        "colab": {
          "base_uri": "https://localhost:8080/",
          "height": 599
        },
        "id": "IEIroFMe-6lg",
        "outputId": "01357e34-4022-4542-e22c-7dcd2543a718"
      },
      "execution_count": null,
      "outputs": [
        {
          "output_type": "display_data",
          "data": {
            "text/plain": [
              "<Figure size 1000x700 with 1 Axes>"
            ],
            "image/png": "[encoded data removed]"
          },
          "metadata": {}
        }
      ]
    },
    {
      "cell_type": "code",
      "source": [
        "import pandas as pd\n",
        "\n",
        "model_results = [\n",
        "    [\"model_1\",mae_1.numpy(),mse_1.numpy()],\n",
        "    [\"model_2\",mae_2.numpy(),mse_2.numpy()],\n",
        "    [\"model_3\",mae_3.numpy(),mse_3.numpy()],\n",
        "]\n",
        "\n",
        "df = pd.DataFrame(model_results,columns=['Model','MAE','MSE'])\n",
        "df\n",
        "\n",
        "#model_3 performs the best"
      ],
      "metadata": {
        "colab": {
          "base_uri": "https://localhost:8080/",
          "height": 143
        },
        "id": "YjBXRFo_Jh2V",
        "outputId": "3dddca2e-5b0a-447b-d35b-6d2b794c5e49"
      },
      "execution_count": null,
      "outputs": [
        {
          "output_type": "execute_result",
          "data": {
            "text/plain": [
              "     Model         MAE           MSE\n",
              "0  model_1  167.515747  28598.994141\n",
              "1  model_2   17.514713    308.364807\n",
              "2  model_3    1.116505      1.252024"
            ],
            "text/html": [
              "\n",
              "  <div id=\"df-9f8898fc-499f-463a-802c-33396942f54a\" class=\"colab-df-container\">\n",
              "    <div>\n",
              "<style scoped>\n",
              "    .dataframe tbody tr th:only-of-type {\n",
              "        vertical-align: middle;\n",
              "    }\n",
              "\n",
              "    .dataframe tbody tr th {\n",
              "        vertical-align: top;\n",
              "    }\n",
              "\n",
              "    .dataframe thead th {\n",
              "        text-align: right;\n",
              "    }\n",
              "</style>\n",
              "<table border=\"1\" class=\"dataframe\">\n",
              "  <thead>\n",
              "    <tr style=\"text-align: right;\">\n",
              "      <th></th>\n",
              "      <th>Model</th>\n",
              "      <th>MAE</th>\n",
              "      <th>MSE</th>\n",
              "    </tr>\n",
              "  </thead>\n",
              "  <tbody>\n",
              "    <tr>\n",
              "      <th>0</th>\n",
              "      <td>model_1</td>\n",
              "      <td>167.515747</td>\n",
              "      <td>28598.994141</td>\n",
              "    </tr>\n",
              "    <tr>\n",
              "      <th>1</th>\n",
              "      <td>model_2</td>\n",
              "      <td>17.514713</td>\n",
              "      <td>308.364807</td>\n",
              "    </tr>\n",
              "    <tr>\n",
              "      <th>2</th>\n",
              "      <td>model_3</td>\n",
              "      <td>1.116505</td>\n",
              "      <td>1.252024</td>\n",
              "    </tr>\n",
              "  </tbody>\n",
              "</table>\n",
              "</div>\n",
              "    <div class=\"colab-df-buttons\">\n",
              "\n",
              "  <div class=\"colab-df-container\">\n",
              "    <button class=\"colab-df-convert\" onclick=\"convertToInteractive('df-9f8898fc-499f-463a-802c-33396942f54a')\"\n",
              "            title=\"Convert this dataframe to an interactive table.\"\n",
              "            style=\"display:none;\">\n",
              "\n",
              "  <svg xmlns=\"http://www.w3.org/2000/svg\" height=\"24px\" viewBox=\"0 -960 960 960\">\n",
              "    <path d=\"M120-120v-720h720v720H120Zm60-500h600v-160H180v160Zm220 220h160v-160H400v160Zm0 220h160v-160H400v160ZM180-400h160v-160H180v160Zm440 0h160v-160H620v160ZM180-180h160v-160H180v160Zm440 0h160v-160H620v160Z\"/>\n",
              "  </svg>\n",
              "    </button>\n",
              "\n",
              "  <style>\n",
              "    .colab-df-container {\n",
              "      display:flex;\n",
              "      gap: 12px;\n",
              "    }\n",
              "\n",
              "    .colab-df-convert {\n",
              "      background-color: #E8F0FE;\n",
              "      border: none;\n",
              "      border-radius: 50%;\n",
              "      cursor: pointer;\n",
              "      display: none;\n",
              "      fill: #1967D2;\n",
              "      height: 32px;\n",
              "      padding: 0 0 0 0;\n",
              "      width: 32px;\n",
              "    }\n",
              "\n",
              "    .colab-df-convert:hover {\n",
              "      background-color: #E2EBFA;\n",
              "      box-shadow: 0px 1px 2px rgba(60, 64, 67, 0.3), 0px 1px 3px 1px rgba(60, 64, 67, 0.15);\n",
              "      fill: #174EA6;\n",
              "    }\n",
              "\n",
              "    .colab-df-buttons div {\n",
              "      margin-bottom: 4px;\n",
              "    }\n",
              "\n",
              "    [theme=dark] .colab-df-convert {\n",
              "      background-color: #3B4455;\n",
              "      fill: #D2E3FC;\n",
              "    }\n",
              "\n",
              "    [theme=dark] .colab-df-convert:hover {\n",
              "      background-color: #434B5C;\n",
              "      box-shadow: 0px 1px 3px 1px rgba(0, 0, 0, 0.15);\n",
              "      filter: drop-shadow(0px 1px 2px rgba(0, 0, 0, 0.3));\n",
              "      fill: #FFFFFF;\n",
              "    }\n",
              "  </style>\n",
              "\n",
              "    <script>\n",
              "      const buttonEl =\n",
              "        document.querySelector('#df-9f8898fc-499f-463a-802c-33396942f54a button.colab-df-convert');\n",
              "      buttonEl.style.display =\n",
              "        google.colab.kernel.accessAllowed ? 'block' : 'none';\n",
              "\n",
              "      async function convertToInteractive(key) {\n",
              "        const element = document.querySelector('#df-9f8898fc-499f-463a-802c-33396942f54a');\n",
              "        const dataTable =\n",
              "          await google.colab.kernel.invokeFunction('convertToInteractive',\n",
              "                                                    [key], {});\n",
              "        if (!dataTable) return;\n",
              "\n",
              "        const docLinkHtml = 'Like what you see? Visit the ' +\n",
              "          '<a target=\"_blank\" href=https://colab.research.google.com/notebooks/data_table.ipynb>data table notebook</a>'\n",
              "          + ' to learn more about interactive tables.';\n",
              "        element.innerHTML = '';\n",
              "        dataTable['output_type'] = 'display_data';\n",
              "        await google.colab.output.renderOutput(dataTable, element);\n",
              "        const docLink = document.createElement('div');\n",
              "        docLink.innerHTML = docLinkHtml;\n",
              "        element.appendChild(docLink);\n",
              "      }\n",
              "    </script>\n",
              "  </div>\n",
              "\n",
              "\n",
              "<div id=\"df-f0b90288-619e-4171-a2b1-ef18b0fcb8e4\">\n",
              "  <button class=\"colab-df-quickchart\" onclick=\"quickchart('df-f0b90288-619e-4171-a2b1-ef18b0fcb8e4')\"\n",
              "            title=\"Suggest charts\"\n",
              "            style=\"display:none;\">\n",
              "\n",
              "<svg xmlns=\"http://www.w3.org/2000/svg\" height=\"24px\"viewBox=\"0 0 24 24\"\n",
              "     width=\"24px\">\n",
              "    <g>\n",
              "        <path d=\"M19 3H5c-1.1 0-2 .9-2 2v14c0 1.1.9 2 2 2h14c1.1 0 2-.9 2-2V5c0-1.1-.9-2-2-2zM9 17H7v-7h2v7zm4 0h-2V7h2v10zm4 0h-2v-4h2v4z\"/>\n",
              "    </g>\n",
              "</svg>\n",
              "  </button>\n",
              "\n",
              "<style>\n",
              "  .colab-df-quickchart {\n",
              "      --bg-color: #E8F0FE;\n",
              "      --fill-color: #1967D2;\n",
              "      --hover-bg-color: #E2EBFA;\n",
              "      --hover-fill-color: #174EA6;\n",
              "      --disabled-fill-color: #AAA;\n",
              "      --disabled-bg-color: #DDD;\n",
              "  }\n",
              "\n",
              "  [theme=dark] .colab-df-quickchart {\n",
              "      --bg-color: #3B4455;\n",
              "      --fill-color: #D2E3FC;\n",
              "      --hover-bg-color: #434B5C;\n",
              "      --hover-fill-color: #FFFFFF;\n",
              "      --disabled-bg-color: #3B4455;\n",
              "      --disabled-fill-color: #666;\n",
              "  }\n",
              "\n",
              "  .colab-df-quickchart {\n",
              "    background-color: var(--bg-color);\n",
              "    border: none;\n",
              "    border-radius: 50%;\n",
              "    cursor: pointer;\n",
              "    display: none;\n",
              "    fill: var(--fill-color);\n",
              "    height: 32px;\n",
              "    padding: 0;\n",
              "    width: 32px;\n",
              "  }\n",
              "\n",
              "  .colab-df-quickchart:hover {\n",
              "    background-color: var(--hover-bg-color);\n",
              "    box-shadow: 0 1px 2px rgba(60, 64, 67, 0.3), 0 1px 3px 1px rgba(60, 64, 67, 0.15);\n",
              "    fill: var(--button-hover-fill-color);\n",
              "  }\n",
              "\n",
              "  .colab-df-quickchart-complete:disabled,\n",
              "  .colab-df-quickchart-complete:disabled:hover {\n",
              "    background-color: var(--disabled-bg-color);\n",
              "    fill: var(--disabled-fill-color);\n",
              "    box-shadow: none;\n",
              "  }\n",
              "\n",
              "  .colab-df-spinner {\n",
              "    border: 2px solid var(--fill-color);\n",
              "    border-color: transparent;\n",
              "    border-bottom-color: var(--fill-color);\n",
              "    animation:\n",
              "      spin 1s steps(1) infinite;\n",
              "  }\n",
              "\n",
              "  @keyframes spin {\n",
              "    0% {\n",
              "      border-color: transparent;\n",
              "      border-bottom-color: var(--fill-color);\n",
              "      border-left-color: var(--fill-color);\n",
              "    }\n",
              "    20% {\n",
              "      border-color: transparent;\n",
              "      border-left-color: var(--fill-color);\n",
              "      border-top-color: var(--fill-color);\n",
              "    }\n",
              "    30% {\n",
              "      border-color: transparent;\n",
              "      border-left-color: var(--fill-color);\n",
              "      border-top-color: var(--fill-color);\n",
              "      border-right-color: var(--fill-color);\n",
              "    }\n",
              "    40% {\n",
              "      border-color: transparent;\n",
              "      border-right-color: var(--fill-color);\n",
              "      border-top-color: var(--fill-color);\n",
              "    }\n",
              "    60% {\n",
              "      border-color: transparent;\n",
              "      border-right-color: var(--fill-color);\n",
              "    }\n",
              "    80% {\n",
              "      border-color: transparent;\n",
              "      border-right-color: var(--fill-color);\n",
              "      border-bottom-color: var(--fill-color);\n",
              "    }\n",
              "    90% {\n",
              "      border-color: transparent;\n",
              "      border-bottom-color: var(--fill-color);\n",
              "    }\n",
              "  }\n",
              "</style>\n",
              "\n",
              "  <script>\n",
              "    async function quickchart(key) {\n",
              "      const quickchartButtonEl =\n",
              "        document.querySelector('#' + key + ' button');\n",
              "      quickchartButtonEl.disabled = true;  // To prevent multiple clicks.\n",
              "      quickchartButtonEl.classList.add('colab-df-spinner');\n",
              "      try {\n",
              "        const charts = await google.colab.kernel.invokeFunction(\n",
              "            'suggestCharts', [key], {});\n",
              "      } catch (error) {\n",
              "        console.error('Error during call to suggestCharts:', error);\n",
              "      }\n",
              "      quickchartButtonEl.classList.remove('colab-df-spinner');\n",
              "      quickchartButtonEl.classList.add('colab-df-quickchart-complete');\n",
              "    }\n",
              "    (() => {\n",
              "      let quickchartButtonEl =\n",
              "        document.querySelector('#df-f0b90288-619e-4171-a2b1-ef18b0fcb8e4 button');\n",
              "      quickchartButtonEl.style.display =\n",
              "        google.colab.kernel.accessAllowed ? 'block' : 'none';\n",
              "    })();\n",
              "  </script>\n",
              "</div>\n",
              "\n",
              "  <div id=\"id_bd890574-e4ec-4f1f-a2e8-b43748760ca4\">\n",
              "    <style>\n",
              "      .colab-df-generate {\n",
              "        background-color: #E8F0FE;\n",
              "        border: none;\n",
              "        border-radius: 50%;\n",
              "        cursor: pointer;\n",
              "        display: none;\n",
              "        fill: #1967D2;\n",
              "        height: 32px;\n",
              "        padding: 0 0 0 0;\n",
              "        width: 32px;\n",
              "      }\n",
              "\n",
              "      .colab-df-generate:hover {\n",
              "        background-color: #E2EBFA;\n",
              "        box-shadow: 0px 1px 2px rgba(60, 64, 67, 0.3), 0px 1px 3px 1px rgba(60, 64, 67, 0.15);\n",
              "        fill: #174EA6;\n",
              "      }\n",
              "\n",
              "      [theme=dark] .colab-df-generate {\n",
              "        background-color: #3B4455;\n",
              "        fill: #D2E3FC;\n",
              "      }\n",
              "\n",
              "      [theme=dark] .colab-df-generate:hover {\n",
              "        background-color: #434B5C;\n",
              "        box-shadow: 0px 1px 3px 1px rgba(0, 0, 0, 0.15);\n",
              "        filter: drop-shadow(0px 1px 2px rgba(0, 0, 0, 0.3));\n",
              "        fill: #FFFFFF;\n",
              "      }\n",
              "    </style>\n",
              "    <button class=\"colab-df-generate\" onclick=\"generateWithVariable('df')\"\n",
              "            title=\"Generate code using this dataframe.\"\n",
              "            style=\"display:none;\">\n",
              "\n",
              "  <svg xmlns=\"http://www.w3.org/2000/svg\" height=\"24px\"viewBox=\"0 0 24 24\"\n",
              "       width=\"24px\">\n",
              "    <path d=\"M7,19H8.4L18.45,9,17,7.55,7,17.6ZM5,21V16.75L18.45,3.32a2,2,0,0,1,2.83,0l1.4,1.43a1.91,1.91,0,0,1,.58,1.4,1.91,1.91,0,0,1-.58,1.4L9.25,21ZM18.45,9,17,7.55Zm-12,3A5.31,5.31,0,0,0,4.9,8.1,5.31,5.31,0,0,0,1,6.5,5.31,5.31,0,0,0,4.9,4.9,5.31,5.31,0,0,0,6.5,1,5.31,5.31,0,0,0,8.1,4.9,5.31,5.31,0,0,0,12,6.5,5.46,5.46,0,0,0,6.5,12Z\"/>\n",
              "  </svg>\n",
              "    </button>\n",
              "    <script>\n",
              "      (() => {\n",
              "      const buttonEl =\n",
              "        document.querySelector('#id_bd890574-e4ec-4f1f-a2e8-b43748760ca4 button.colab-df-generate');\n",
              "      buttonEl.style.display =\n",
              "        google.colab.kernel.accessAllowed ? 'block' : 'none';\n",
              "\n",
              "      buttonEl.onclick = () => {\n",
              "        google.colab.notebook.generateWithVariable('df');\n",
              "      }\n",
              "      })();\n",
              "    </script>\n",
              "  </div>\n",
              "\n",
              "    </div>\n",
              "  </div>\n"
            ],
            "application/vnd.google.colaboratory.intrinsic+json": {
              "type": "dataframe",
              "variable_name": "df",
              "summary": "{\n  \"name\": \"df\",\n  \"rows\": 3,\n  \"fields\": [\n    {\n      \"column\": \"Model\",\n      \"properties\": {\n        \"dtype\": \"string\",\n        \"samples\": [\n          \"model_1\",\n          \"model_2\",\n          \"model_3\"\n        ],\n        \"num_unique_values\": 3,\n        \"semantic_type\": \"\",\n        \"description\": \"\"\n      }\n    },\n    {\n      \"column\": \"MAE\",\n      \"properties\": {\n        \"dtype\": \"float32\",\n        \"samples\": [\n          167.5157470703125,\n          17.514713287353516,\n          1.1165046691894531\n        ],\n        \"num_unique_values\": 3,\n        \"semantic_type\": \"\",\n        \"description\": \"\"\n      }\n    },\n    {\n      \"column\": \"MSE\",\n      \"properties\": {\n        \"dtype\": \"float32\",\n        \"samples\": [\n          28598.994140625,\n          308.36480712890625,\n          1.2520239353179932\n        ],\n        \"num_unique_values\": 3,\n        \"semantic_type\": \"\",\n        \"description\": \"\"\n      }\n    }\n  ]\n}"
            }
          },
          "metadata": {},
          "execution_count": 67
        }
      ]
    },
    {
      "cell_type": "code",
      "source": [
        "#Saving models\n",
        "\n",
        "#Using SavedModel format\n",
        "\n",
        "model_3.save('ModelResults_SF_Format')"
      ],
      "metadata": {
        "id": "Swcan1peKNhD"
      },
      "execution_count": null,
      "outputs": []
    },
    {
      "cell_type": "code",
      "source": [
        "#Using HDF5 format\n",
        "\n",
        "model_3.save('ModelResults_HDF5_Format.h5')"
      ],
      "metadata": {
        "colab": {
          "base_uri": "https://localhost:8080/"
        },
        "id": "Yi5ah92EMRsT",
        "outputId": "1d99103a-c3c5-4317-9276-e158777bb341"
      },
      "execution_count": null,
      "outputs": [
        {
          "output_type": "stream",
          "name": "stderr",
          "text": [
            "/usr/local/lib/python3.10/dist-packages/keras/src/engine/training.py:3103: UserWarning: You are saving your model as an HDF5 file via `model.save()`. This file format is considered legacy. We recommend using instead the native Keras format, e.g. `model.save('my_model.keras')`.\n",
            "  saving_api.save_model(\n"
          ]
        }
      ]
    },
    {
      "cell_type": "code",
      "source": [
        "#Loading models\n",
        "\n",
        "loaded_model = tf.keras.models.load_model('/content/ModelResults_HDF5_Format.h5')\n",
        "loaded_model.summary()"
      ],
      "metadata": {
        "colab": {
          "base_uri": "https://localhost:8080/"
        },
        "id": "FOtSRo0tO14M",
        "outputId": "f9f8858c-479d-44b5-8ba5-266c250ffee7"
      },
      "execution_count": null,
      "outputs": [
        {
          "output_type": "stream",
          "name": "stdout",
          "text": [
            "Model: \"sequential_4\"\n",
            "_________________________________________________________________\n",
            " Layer (type)                Output Shape              Param #   \n",
            "=================================================================\n",
            " layer_1 (Dense)             (None, 20)                40        \n",
            "                                                                 \n",
            " layer_2 (Dense)             (None, 1)                 21        \n",
            "                                                                 \n",
            "=================================================================\n",
            "Total params: 61 (244.00 Byte)\n",
            "Trainable params: 61 (244.00 Byte)\n",
            "Non-trainable params: 0 (0.00 Byte)\n",
            "_________________________________________________________________\n"
          ]
        }
      ]
    },
    {
      "cell_type": "code",
      "source": [
        "model_3.summary()"
      ],
      "metadata": {
        "colab": {
          "base_uri": "https://localhost:8080/"
        },
        "id": "yvB_5NirPENF",
        "outputId": "dc8882b6-0e8c-41c3-8172-e5a2dc10390d"
      },
      "execution_count": null,
      "outputs": [
        {
          "output_type": "stream",
          "name": "stdout",
          "text": [
            "Model: \"sequential_4\"\n",
            "_________________________________________________________________\n",
            " Layer (type)                Output Shape              Param #   \n",
            "=================================================================\n",
            " layer_1 (Dense)             (None, 20)                40        \n",
            "                                                                 \n",
            " layer_2 (Dense)             (None, 1)                 21        \n",
            "                                                                 \n",
            "=================================================================\n",
            "Total params: 61 (244.00 Byte)\n",
            "Trainable params: 61 (244.00 Byte)\n",
            "Non-trainable params: 0 (0.00 Byte)\n",
            "_________________________________________________________________\n"
          ]
        }
      ]
    },
    {
      "cell_type": "code",
      "source": [
        "loaded_model_preds = loaded_model.predict(X_test)\n",
        "loaded_model_preds == y_pred3"
      ],
      "metadata": {
        "colab": {
          "base_uri": "https://localhost:8080/"
        },
        "id": "rFXmk7_qPHck",
        "outputId": "82816883-d533-4736-e3a0-d54368eb34cb"
      },
      "execution_count": null,
      "outputs": [
        {
          "output_type": "stream",
          "name": "stdout",
          "text": [
            "1/1 [==============================] - 0s 61ms/step\n"
          ]
        },
        {
          "output_type": "execute_result",
          "data": {
            "text/plain": [
              "array([[ True],\n",
              "       [ True],\n",
              "       [ True],\n",
              "       [ True],\n",
              "       [ True],\n",
              "       [ True],\n",
              "       [ True],\n",
              "       [ True],\n",
              "       [ True],\n",
              "       [ True]])"
            ]
          },
          "metadata": {},
          "execution_count": 72
        }
      ]
    },
    {
      "cell_type": "code",
      "source": [
        "from google.colab import files\n",
        "\n",
        "files.download('/content/ModelResults_HDF5_Format.h5')"
      ],
      "metadata": {
        "colab": {
          "base_uri": "https://localhost:8080/",
          "height": 17
        },
        "id": "IIR_unbmQz_i",
        "outputId": "9b362db4-5667-4e57-aa53-13293aaf66c3"
      },
      "execution_count": null,
      "outputs": [
        {
          "output_type": "display_data",
          "data": {
            "text/plain": [
              "<IPython.core.display.Javascript object>"
            ],
            "application/javascript": [
              "\n",
              "    async function download(id, filename, size) {\n",
              "      if (!google.colab.kernel.accessAllowed) {\n",
              "        return;\n",
              "      }\n",
              "      const div = document.createElement('div');\n",
              "      const label = document.createElement('label');\n",
              "      label.textContent = `Downloading \"${filename}\": `;\n",
              "      div.appendChild(label);\n",
              "      const progress = document.createElement('progress');\n",
              "      progress.max = size;\n",
              "      div.appendChild(progress);\n",
              "      document.body.appendChild(div);\n",
              "\n",
              "      const buffers = [];\n",
              "      let downloaded = 0;\n",
              "\n",
              "      const channel = await google.colab.kernel.comms.open(id);\n",
              "      // Send a message to notify the kernel that we're ready.\n",
              "      channel.send({})\n",
              "\n",
              "      for await (const message of channel.messages) {\n",
              "        // Send a message to notify the kernel that we're ready.\n",
              "        channel.send({})\n",
              "        if (message.buffers) {\n",
              "          for (const buffer of message.buffers) {\n",
              "            buffers.push(buffer);\n",
              "            downloaded += buffer.byteLength;\n",
              "            progress.value = downloaded;\n",
              "          }\n",
              "        }\n",
              "      }\n",
              "      const blob = new Blob(buffers, {type: 'application/binary'});\n",
              "      const a = document.createElement('a');\n",
              "      a.href = window.URL.createObjectURL(blob);\n",
              "      a.download = filename;\n",
              "      div.appendChild(a);\n",
              "      a.click();\n",
              "      div.remove();\n",
              "    }\n",
              "  "
            ]
          },
          "metadata": {}
        },
        {
          "output_type": "display_data",
          "data": {
            "text/plain": [
              "<IPython.core.display.Javascript object>"
            ],
            "application/javascript": [
              "download(\"download_20a8d909-8d48-4c1a-98a2-8dc7d85a72b5\", \"ModelResults_HDF5_Format.h5\", 26200)"
            ]
          },
          "metadata": {}
        }
      ]
    },
    {
      "cell_type": "code",
      "source": [
        "#Larger example\n",
        "\n",
        "import tensorflow as tf\n",
        "import pandas as pd\n",
        "import matplotlib.pyplot as plt"
      ],
      "metadata": {
        "id": "k2O1GIlIuPMu"
      },
      "execution_count": null,
      "outputs": []
    },
    {
      "cell_type": "code",
      "source": [
        "#Read the insurance dataset\n",
        "\n",
        "insurance = pd.read_csv(\"https://raw.githubusercontent.com/stedy/Machine-Learning-with-R-datasets/master/insurance.csv\")\n",
        "insurance"
      ],
      "metadata": {
        "colab": {
          "base_uri": "https://localhost:8080/",
          "height": 424
        },
        "id": "4CwFufFcuon8",
        "outputId": "edfcd843-81b7-4b6d-dd25-1f507225f49e"
      },
      "execution_count": null,
      "outputs": [
        {
          "output_type": "execute_result",
          "data": {
            "text/plain": [
              "      age     sex     bmi  children smoker     region      charges\n",
              "0      19  female  27.900         0    yes  southwest  16884.92400\n",
              "1      18    male  33.770         1     no  southeast   1725.55230\n",
              "2      28    male  33.000         3     no  southeast   4449.46200\n",
              "3      33    male  22.705         0     no  northwest  21984.47061\n",
              "4      32    male  28.880         0     no  northwest   3866.85520\n",
              "...   ...     ...     ...       ...    ...        ...          ...\n",
              "1333   50    male  30.970         3     no  northwest  10600.54830\n",
              "1334   18  female  31.920         0     no  northeast   2205.98080\n",
              "1335   18  female  36.850         0     no  southeast   1629.83350\n",
              "1336   21  female  25.800         0     no  southwest   2007.94500\n",
              "1337   61  female  29.070         0    yes  northwest  29141.36030\n",
              "\n",
              "[1338 rows x 7 columns]"
            ],
            "text/html": [
              "\n",
              "  <div id=\"df-465379ee-015d-4a95-804f-727925f90370\" class=\"colab-df-container\">\n",
              "    <div>\n",
              "<style scoped>\n",
              "    .dataframe tbody tr th:only-of-type {\n",
              "        vertical-align: middle;\n",
              "    }\n",
              "\n",
              "    .dataframe tbody tr th {\n",
              "        vertical-align: top;\n",
              "    }\n",
              "\n",
              "    .dataframe thead th {\n",
              "        text-align: right;\n",
              "    }\n",
              "</style>\n",
              "<table border=\"1\" class=\"dataframe\">\n",
              "  <thead>\n",
              "    <tr style=\"text-align: right;\">\n",
              "      <th></th>\n",
              "      <th>age</th>\n",
              "      <th>sex</th>\n",
              "      <th>bmi</th>\n",
              "      <th>children</th>\n",
              "      <th>smoker</th>\n",
              "      <th>region</th>\n",
              "      <th>charges</th>\n",
              "    </tr>\n",
              "  </thead>\n",
              "  <tbody>\n",
              "    <tr>\n",
              "      <th>0</th>\n",
              "      <td>19</td>\n",
              "      <td>female</td>\n",
              "      <td>27.900</td>\n",
              "      <td>0</td>\n",
              "      <td>yes</td>\n",
              "      <td>southwest</td>\n",
              "      <td>16884.92400</td>\n",
              "    </tr>\n",
              "    <tr>\n",
              "      <th>1</th>\n",
              "      <td>18</td>\n",
              "      <td>male</td>\n",
              "      <td>33.770</td>\n",
              "      <td>1</td>\n",
              "      <td>no</td>\n",
              "      <td>southeast</td>\n",
              "      <td>1725.55230</td>\n",
              "    </tr>\n",
              "    <tr>\n",
              "      <th>2</th>\n",
              "      <td>28</td>\n",
              "      <td>male</td>\n",
              "      <td>33.000</td>\n",
              "      <td>3</td>\n",
              "      <td>no</td>\n",
              "      <td>southeast</td>\n",
              "      <td>4449.46200</td>\n",
              "    </tr>\n",
              "    <tr>\n",
              "      <th>3</th>\n",
              "      <td>33</td>\n",
              "      <td>male</td>\n",
              "      <td>22.705</td>\n",
              "      <td>0</td>\n",
              "      <td>no</td>\n",
              "      <td>northwest</td>\n",
              "      <td>21984.47061</td>\n",
              "    </tr>\n",
              "    <tr>\n",
              "      <th>4</th>\n",
              "      <td>32</td>\n",
              "      <td>male</td>\n",
              "      <td>28.880</td>\n",
              "      <td>0</td>\n",
              "      <td>no</td>\n",
              "      <td>northwest</td>\n",
              "      <td>3866.85520</td>\n",
              "    </tr>\n",
              "    <tr>\n",
              "      <th>...</th>\n",
              "      <td>...</td>\n",
              "      <td>...</td>\n",
              "      <td>...</td>\n",
              "      <td>...</td>\n",
              "      <td>...</td>\n",
              "      <td>...</td>\n",
              "      <td>...</td>\n",
              "    </tr>\n",
              "    <tr>\n",
              "      <th>1333</th>\n",
              "      <td>50</td>\n",
              "      <td>male</td>\n",
              "      <td>30.970</td>\n",
              "      <td>3</td>\n",
              "      <td>no</td>\n",
              "      <td>northwest</td>\n",
              "      <td>10600.54830</td>\n",
              "    </tr>\n",
              "    <tr>\n",
              "      <th>1334</th>\n",
              "      <td>18</td>\n",
              "      <td>female</td>\n",
              "      <td>31.920</td>\n",
              "      <td>0</td>\n",
              "      <td>no</td>\n",
              "      <td>northeast</td>\n",
              "      <td>2205.98080</td>\n",
              "    </tr>\n",
              "    <tr>\n",
              "      <th>1335</th>\n",
              "      <td>18</td>\n",
              "      <td>female</td>\n",
              "      <td>36.850</td>\n",
              "      <td>0</td>\n",
              "      <td>no</td>\n",
              "      <td>southeast</td>\n",
              "      <td>1629.83350</td>\n",
              "    </tr>\n",
              "    <tr>\n",
              "      <th>1336</th>\n",
              "      <td>21</td>\n",
              "      <td>female</td>\n",
              "      <td>25.800</td>\n",
              "      <td>0</td>\n",
              "      <td>no</td>\n",
              "      <td>southwest</td>\n",
              "      <td>2007.94500</td>\n",
              "    </tr>\n",
              "    <tr>\n",
              "      <th>1337</th>\n",
              "      <td>61</td>\n",
              "      <td>female</td>\n",
              "      <td>29.070</td>\n",
              "      <td>0</td>\n",
              "      <td>yes</td>\n",
              "      <td>northwest</td>\n",
              "      <td>29141.36030</td>\n",
              "    </tr>\n",
              "  </tbody>\n",
              "</table>\n",
              "<p>1338 rows × 7 columns</p>\n",
              "</div>\n",
              "    <div class=\"colab-df-buttons\">\n",
              "\n",
              "  <div class=\"colab-df-container\">\n",
              "    <button class=\"colab-df-convert\" onclick=\"convertToInteractive('df-465379ee-015d-4a95-804f-727925f90370')\"\n",
              "            title=\"Convert this dataframe to an interactive table.\"\n",
              "            style=\"display:none;\">\n",
              "\n",
              "  <svg xmlns=\"http://www.w3.org/2000/svg\" height=\"24px\" viewBox=\"0 -960 960 960\">\n",
              "    <path d=\"M120-120v-720h720v720H120Zm60-500h600v-160H180v160Zm220 220h160v-160H400v160Zm0 220h160v-160H400v160ZM180-400h160v-160H180v160Zm440 0h160v-160H620v160ZM180-180h160v-160H180v160Zm440 0h160v-160H620v160Z\"/>\n",
              "  </svg>\n",
              "    </button>\n",
              "\n",
              "  <style>\n",
              "    .colab-df-container {\n",
              "      display:flex;\n",
              "      gap: 12px;\n",
              "    }\n",
              "\n",
              "    .colab-df-convert {\n",
              "      background-color: #E8F0FE;\n",
              "      border: none;\n",
              "      border-radius: 50%;\n",
              "      cursor: pointer;\n",
              "      display: none;\n",
              "      fill: #1967D2;\n",
              "      height: 32px;\n",
              "      padding: 0 0 0 0;\n",
              "      width: 32px;\n",
              "    }\n",
              "\n",
              "    .colab-df-convert:hover {\n",
              "      background-color: #E2EBFA;\n",
              "      box-shadow: 0px 1px 2px rgba(60, 64, 67, 0.3), 0px 1px 3px 1px rgba(60, 64, 67, 0.15);\n",
              "      fill: #174EA6;\n",
              "    }\n",
              "\n",
              "    .colab-df-buttons div {\n",
              "      margin-bottom: 4px;\n",
              "    }\n",
              "\n",
              "    [theme=dark] .colab-df-convert {\n",
              "      background-color: #3B4455;\n",
              "      fill: #D2E3FC;\n",
              "    }\n",
              "\n",
              "    [theme=dark] .colab-df-convert:hover {\n",
              "      background-color: #434B5C;\n",
              "      box-shadow: 0px 1px 3px 1px rgba(0, 0, 0, 0.15);\n",
              "      filter: drop-shadow(0px 1px 2px rgba(0, 0, 0, 0.3));\n",
              "      fill: #FFFFFF;\n",
              "    }\n",
              "  </style>\n",
              "\n",
              "    <script>\n",
              "      const buttonEl =\n",
              "        document.querySelector('#df-465379ee-015d-4a95-804f-727925f90370 button.colab-df-convert');\n",
              "      buttonEl.style.display =\n",
              "        google.colab.kernel.accessAllowed ? 'block' : 'none';\n",
              "\n",
              "      async function convertToInteractive(key) {\n",
              "        const element = document.querySelector('#df-465379ee-015d-4a95-804f-727925f90370');\n",
              "        const dataTable =\n",
              "          await google.colab.kernel.invokeFunction('convertToInteractive',\n",
              "                                                    [key], {});\n",
              "        if (!dataTable) return;\n",
              "\n",
              "        const docLinkHtml = 'Like what you see? Visit the ' +\n",
              "          '<a target=\"_blank\" href=https://colab.research.google.com/notebooks/data_table.ipynb>data table notebook</a>'\n",
              "          + ' to learn more about interactive tables.';\n",
              "        element.innerHTML = '';\n",
              "        dataTable['output_type'] = 'display_data';\n",
              "        await google.colab.output.renderOutput(dataTable, element);\n",
              "        const docLink = document.createElement('div');\n",
              "        docLink.innerHTML = docLinkHtml;\n",
              "        element.appendChild(docLink);\n",
              "      }\n",
              "    </script>\n",
              "  </div>\n",
              "\n",
              "\n",
              "<div id=\"df-f46af9f9-75e4-45b5-931f-a7c9bdb96eea\">\n",
              "  <button class=\"colab-df-quickchart\" onclick=\"quickchart('df-f46af9f9-75e4-45b5-931f-a7c9bdb96eea')\"\n",
              "            title=\"Suggest charts\"\n",
              "            style=\"display:none;\">\n",
              "\n",
              "<svg xmlns=\"http://www.w3.org/2000/svg\" height=\"24px\"viewBox=\"0 0 24 24\"\n",
              "     width=\"24px\">\n",
              "    <g>\n",
              "        <path d=\"M19 3H5c-1.1 0-2 .9-2 2v14c0 1.1.9 2 2 2h14c1.1 0 2-.9 2-2V5c0-1.1-.9-2-2-2zM9 17H7v-7h2v7zm4 0h-2V7h2v10zm4 0h-2v-4h2v4z\"/>\n",
              "    </g>\n",
              "</svg>\n",
              "  </button>\n",
              "\n",
              "<style>\n",
              "  .colab-df-quickchart {\n",
              "      --bg-color: #E8F0FE;\n",
              "      --fill-color: #1967D2;\n",
              "      --hover-bg-color: #E2EBFA;\n",
              "      --hover-fill-color: #174EA6;\n",
              "      --disabled-fill-color: #AAA;\n",
              "      --disabled-bg-color: #DDD;\n",
              "  }\n",
              "\n",
              "  [theme=dark] .colab-df-quickchart {\n",
              "      --bg-color: #3B4455;\n",
              "      --fill-color: #D2E3FC;\n",
              "      --hover-bg-color: #434B5C;\n",
              "      --hover-fill-color: #FFFFFF;\n",
              "      --disabled-bg-color: #3B4455;\n",
              "      --disabled-fill-color: #666;\n",
              "  }\n",
              "\n",
              "  .colab-df-quickchart {\n",
              "    background-color: var(--bg-color);\n",
              "    border: none;\n",
              "    border-radius: 50%;\n",
              "    cursor: pointer;\n",
              "    display: none;\n",
              "    fill: var(--fill-color);\n",
              "    height: 32px;\n",
              "    padding: 0;\n",
              "    width: 32px;\n",
              "  }\n",
              "\n",
              "  .colab-df-quickchart:hover {\n",
              "    background-color: var(--hover-bg-color);\n",
              "    box-shadow: 0 1px 2px rgba(60, 64, 67, 0.3), 0 1px 3px 1px rgba(60, 64, 67, 0.15);\n",
              "    fill: var(--button-hover-fill-color);\n",
              "  }\n",
              "\n",
              "  .colab-df-quickchart-complete:disabled,\n",
              "  .colab-df-quickchart-complete:disabled:hover {\n",
              "    background-color: var(--disabled-bg-color);\n",
              "    fill: var(--disabled-fill-color);\n",
              "    box-shadow: none;\n",
              "  }\n",
              "\n",
              "  .colab-df-spinner {\n",
              "    border: 2px solid var(--fill-color);\n",
              "    border-color: transparent;\n",
              "    border-bottom-color: var(--fill-color);\n",
              "    animation:\n",
              "      spin 1s steps(1) infinite;\n",
              "  }\n",
              "\n",
              "  @keyframes spin {\n",
              "    0% {\n",
              "      border-color: transparent;\n",
              "      border-bottom-color: var(--fill-color);\n",
              "      border-left-color: var(--fill-color);\n",
              "    }\n",
              "    20% {\n",
              "      border-color: transparent;\n",
              "      border-left-color: var(--fill-color);\n",
              "      border-top-color: var(--fill-color);\n",
              "    }\n",
              "    30% {\n",
              "      border-color: transparent;\n",
              "      border-left-color: var(--fill-color);\n",
              "      border-top-color: var(--fill-color);\n",
              "      border-right-color: var(--fill-color);\n",
              "    }\n",
              "    40% {\n",
              "      border-color: transparent;\n",
              "      border-right-color: var(--fill-color);\n",
              "      border-top-color: var(--fill-color);\n",
              "    }\n",
              "    60% {\n",
              "      border-color: transparent;\n",
              "      border-right-color: var(--fill-color);\n",
              "    }\n",
              "    80% {\n",
              "      border-color: transparent;\n",
              "      border-right-color: var(--fill-color);\n",
              "      border-bottom-color: var(--fill-color);\n",
              "    }\n",
              "    90% {\n",
              "      border-color: transparent;\n",
              "      border-bottom-color: var(--fill-color);\n",
              "    }\n",
              "  }\n",
              "</style>\n",
              "\n",
              "  <script>\n",
              "    async function quickchart(key) {\n",
              "      const quickchartButtonEl =\n",
              "        document.querySelector('#' + key + ' button');\n",
              "      quickchartButtonEl.disabled = true;  // To prevent multiple clicks.\n",
              "      quickchartButtonEl.classList.add('colab-df-spinner');\n",
              "      try {\n",
              "        const charts = await google.colab.kernel.invokeFunction(\n",
              "            'suggestCharts', [key], {});\n",
              "      } catch (error) {\n",
              "        console.error('Error during call to suggestCharts:', error);\n",
              "      }\n",
              "      quickchartButtonEl.classList.remove('colab-df-spinner');\n",
              "      quickchartButtonEl.classList.add('colab-df-quickchart-complete');\n",
              "    }\n",
              "    (() => {\n",
              "      let quickchartButtonEl =\n",
              "        document.querySelector('#df-f46af9f9-75e4-45b5-931f-a7c9bdb96eea button');\n",
              "      quickchartButtonEl.style.display =\n",
              "        google.colab.kernel.accessAllowed ? 'block' : 'none';\n",
              "    })();\n",
              "  </script>\n",
              "</div>\n",
              "\n",
              "  <div id=\"id_47c59941-095e-4096-9cf9-6a57d6d5ae57\">\n",
              "    <style>\n",
              "      .colab-df-generate {\n",
              "        background-color: #E8F0FE;\n",
              "        border: none;\n",
              "        border-radius: 50%;\n",
              "        cursor: pointer;\n",
              "        display: none;\n",
              "        fill: #1967D2;\n",
              "        height: 32px;\n",
              "        padding: 0 0 0 0;\n",
              "        width: 32px;\n",
              "      }\n",
              "\n",
              "      .colab-df-generate:hover {\n",
              "        background-color: #E2EBFA;\n",
              "        box-shadow: 0px 1px 2px rgba(60, 64, 67, 0.3), 0px 1px 3px 1px rgba(60, 64, 67, 0.15);\n",
              "        fill: #174EA6;\n",
              "      }\n",
              "\n",
              "      [theme=dark] .colab-df-generate {\n",
              "        background-color: #3B4455;\n",
              "        fill: #D2E3FC;\n",
              "      }\n",
              "\n",
              "      [theme=dark] .colab-df-generate:hover {\n",
              "        background-color: #434B5C;\n",
              "        box-shadow: 0px 1px 3px 1px rgba(0, 0, 0, 0.15);\n",
              "        filter: drop-shadow(0px 1px 2px rgba(0, 0, 0, 0.3));\n",
              "        fill: #FFFFFF;\n",
              "      }\n",
              "    </style>\n",
              "    <button class=\"colab-df-generate\" onclick=\"generateWithVariable('insurance')\"\n",
              "            title=\"Generate code using this dataframe.\"\n",
              "            style=\"display:none;\">\n",
              "\n",
              "  <svg xmlns=\"http://www.w3.org/2000/svg\" height=\"24px\"viewBox=\"0 0 24 24\"\n",
              "       width=\"24px\">\n",
              "    <path d=\"M7,19H8.4L18.45,9,17,7.55,7,17.6ZM5,21V16.75L18.45,3.32a2,2,0,0,1,2.83,0l1.4,1.43a1.91,1.91,0,0,1,.58,1.4,1.91,1.91,0,0,1-.58,1.4L9.25,21ZM18.45,9,17,7.55Zm-12,3A5.31,5.31,0,0,0,4.9,8.1,5.31,5.31,0,0,0,1,6.5,5.31,5.31,0,0,0,4.9,4.9,5.31,5.31,0,0,0,6.5,1,5.31,5.31,0,0,0,8.1,4.9,5.31,5.31,0,0,0,12,6.5,5.46,5.46,0,0,0,6.5,12Z\"/>\n",
              "  </svg>\n",
              "    </button>\n",
              "    <script>\n",
              "      (() => {\n",
              "      const buttonEl =\n",
              "        document.querySelector('#id_47c59941-095e-4096-9cf9-6a57d6d5ae57 button.colab-df-generate');\n",
              "      buttonEl.style.display =\n",
              "        google.colab.kernel.accessAllowed ? 'block' : 'none';\n",
              "\n",
              "      buttonEl.onclick = () => {\n",
              "        google.colab.notebook.generateWithVariable('insurance');\n",
              "      }\n",
              "      })();\n",
              "    </script>\n",
              "  </div>\n",
              "\n",
              "    </div>\n",
              "  </div>\n"
            ],
            "application/vnd.google.colaboratory.intrinsic+json": {
              "type": "dataframe",
              "variable_name": "insurance",
              "summary": "{\n  \"name\": \"insurance\",\n  \"rows\": 1338,\n  \"fields\": [\n    {\n      \"column\": \"age\",\n      \"properties\": {\n        \"dtype\": \"number\",\n        \"std\": 14,\n        \"min\": 18,\n        \"max\": 64,\n        \"samples\": [\n          21,\n          45,\n          36\n        ],\n        \"num_unique_values\": 47,\n        \"semantic_type\": \"\",\n        \"description\": \"\"\n      }\n    },\n    {\n      \"column\": \"sex\",\n      \"properties\": {\n        \"dtype\": \"category\",\n        \"samples\": [\n          \"male\",\n          \"female\"\n        ],\n        \"num_unique_values\": 2,\n        \"semantic_type\": \"\",\n        \"description\": \"\"\n      }\n    },\n    {\n      \"column\": \"bmi\",\n      \"properties\": {\n        \"dtype\": \"number\",\n        \"std\": 6.098186911679014,\n        \"min\": 15.96,\n        \"max\": 53.13,\n        \"samples\": [\n          23.18,\n          26.885\n        ],\n        \"num_unique_values\": 548,\n        \"semantic_type\": \"\",\n        \"description\": \"\"\n      }\n    },\n    {\n      \"column\": \"children\",\n      \"properties\": {\n        \"dtype\": \"number\",\n        \"std\": 1,\n        \"min\": 0,\n        \"max\": 5,\n        \"samples\": [\n          0,\n          1\n        ],\n        \"num_unique_values\": 6,\n        \"semantic_type\": \"\",\n        \"description\": \"\"\n      }\n    },\n    {\n      \"column\": \"smoker\",\n      \"properties\": {\n        \"dtype\": \"category\",\n        \"samples\": [\n          \"no\",\n          \"yes\"\n        ],\n        \"num_unique_values\": 2,\n        \"semantic_type\": \"\",\n        \"description\": \"\"\n      }\n    },\n    {\n      \"column\": \"region\",\n      \"properties\": {\n        \"dtype\": \"category\",\n        \"samples\": [\n          \"southeast\",\n          \"northeast\"\n        ],\n        \"num_unique_values\": 4,\n        \"semantic_type\": \"\",\n        \"description\": \"\"\n      }\n    },\n    {\n      \"column\": \"charges\",\n      \"properties\": {\n        \"dtype\": \"number\",\n        \"std\": 12110.011236694001,\n        \"min\": 1121.8739,\n        \"max\": 63770.42801,\n        \"samples\": [\n          8688.85885,\n          5708.867\n        ],\n        \"num_unique_values\": 1337,\n        \"semantic_type\": \"\",\n        \"description\": \"\"\n      }\n    }\n  ]\n}"
            }
          },
          "metadata": {},
          "execution_count": 114
        }
      ]
    },
    {
      "cell_type": "code",
      "source": [
        "#Data Preprocessing with scikit-learn classes\n",
        "from sklearn.compose import make_column_transformer\n",
        "from sklearn.preprocessing import MinMaxScaler,OneHotEncoder\n",
        "from sklearn.model_selection import train_test_split\n",
        "\n",
        "#Transform the columns\n",
        "ct = make_column_transformer(\n",
        "    (MinMaxScaler(),['age','bmi','children']),\n",
        "    (OneHotEncoder(handle_unknown='ignore'),['sex','smoker','region'])\n",
        ")\n",
        "\n",
        "#Create X and y\n",
        "X = insurance.drop('charges',axis=1)\n",
        "\n",
        "y = insurance['charges']\n",
        "\n",
        "#Split the data\n",
        "\n",
        "X_train, X_test, y_train, y_test = train_test_split(X,y,test_size=0.2,random_state=42)\n",
        "\n",
        "#Fit the column transformer on train data\n",
        "ct.fit(X_train)\n",
        "\n",
        "#Transform training and test data with MinMaxScaler and OneHotEncoder\n",
        "X_train_normal = ct.transform(X_train)\n",
        "X_test_normal = ct.transform(X_test)\n"
      ],
      "metadata": {
        "id": "rrp9FOX1T8_u"
      },
      "execution_count": null,
      "outputs": []
    },
    {
      "cell_type": "code",
      "source": [
        "X_train.loc[0]"
      ],
      "metadata": {
        "colab": {
          "base_uri": "https://localhost:8080/"
        },
        "id": "76ZvCyxKXy_K",
        "outputId": "730f54ba-7861-4e99-8ea3-e13b6a881a51"
      },
      "execution_count": null,
      "outputs": [
        {
          "output_type": "execute_result",
          "data": {
            "text/plain": [
              "age                19\n",
              "sex            female\n",
              "bmi              27.9\n",
              "children            0\n",
              "smoker            yes\n",
              "region      southwest\n",
              "Name: 0, dtype: object"
            ]
          },
          "metadata": {},
          "execution_count": 120
        }
      ]
    },
    {
      "cell_type": "code",
      "source": [
        "X_train_normal[0]"
      ],
      "metadata": {
        "colab": {
          "base_uri": "https://localhost:8080/"
        },
        "id": "cMV7h4x0X4g5",
        "outputId": "61c98b56-19fe-4350-c4a4-a1dbcb468dfc"
      },
      "execution_count": null,
      "outputs": [
        {
          "output_type": "execute_result",
          "data": {
            "text/plain": [
              "array([0.60869565, 0.10734463, 0.4       , 1.        , 0.        ,\n",
              "       1.        , 0.        , 0.        , 1.        , 0.        ,\n",
              "       0.        ])"
            ]
          },
          "metadata": {},
          "execution_count": 123
        }
      ]
    },
    {
      "cell_type": "code",
      "source": [
        "#Create model\n",
        "\n",
        "insurance_model = tf.keras.Sequential([\n",
        "    tf.keras.layers.Dense(20,input_shape=[11]),\n",
        "    tf.keras.layers.Dense(1)\n",
        "])\n",
        "\n",
        "#Compile model\n",
        "\n",
        "insurance_model.compile(optimizer = tf.keras.optimizers.SGD(),\n",
        "                        loss = tf.keras.losses.MeanAbsoluteError(),\n",
        "                        metrics = tf.keras.metrics.MeanAbsoluteError())\n",
        "\n",
        "#Fit the model\n",
        "insurance_model.fit(X_train_normal,y_train,epochs = 500, verbose = False)"
      ],
      "metadata": {
        "colab": {
          "base_uri": "https://localhost:8080/"
        },
        "id": "xsnHAMnrJG9C",
        "outputId": "8c604a93-f3bb-4795-9ed2-6e00f74ce402"
      },
      "execution_count": null,
      "outputs": [
        {
          "output_type": "execute_result",
          "data": {
            "text/plain": [
              "<keras.src.callbacks.History at 0x7a1c27323a00>"
            ]
          },
          "metadata": {},
          "execution_count": 124
        }
      ]
    },
    {
      "cell_type": "code",
      "source": [
        "insurance_model.evaluate(X_test_normal,y_test)"
      ],
      "metadata": {
        "colab": {
          "base_uri": "https://localhost:8080/"
        },
        "id": "PjAMdNpRN5ll",
        "outputId": "392c6f67-b5d0-49ac-d130-d5ae6cfd7699"
      },
      "execution_count": null,
      "outputs": [
        {
          "output_type": "stream",
          "name": "stdout",
          "text": [
            "9/9 [==============================] - 0s 4ms/step - loss: 3166.7891 - mean_absolute_error: 3166.7891\n"
          ]
        },
        {
          "output_type": "execute_result",
          "data": {
            "text/plain": [
              "[3166.7890625, 3166.7890625]"
            ]
          },
          "metadata": {},
          "execution_count": 126
        }
      ]
    },
    {
      "cell_type": "code",
      "source": [
        "#Create model\n",
        "\n",
        "insurance_model1 = tf.keras.Sequential([\n",
        "    tf.keras.layers.Dense(100,input_shape=[11]),\n",
        "    tf.keras.layers.Dense(10),\n",
        "    tf.keras.layers.Dense(1)\n",
        "])\n",
        "\n",
        "#Compile model\n",
        "\n",
        "insurance_model1.compile(optimizer = tf.keras.optimizers.Adam(),\n",
        "                        loss = tf.keras.losses.MeanAbsoluteError(),\n",
        "                        metrics = tf.keras.metrics.MeanAbsoluteError())\n",
        "\n",
        "#Fit the model\n",
        "history = insurance_model1.fit(X_train,y_train,epochs = 200, verbose = False)"
      ],
      "metadata": {
        "id": "q0KlwH6gOKHT"
      },
      "execution_count": null,
      "outputs": []
    },
    {
      "cell_type": "code",
      "source": [
        "insurance_model1.evaluate(X_test,y_test)"
      ],
      "metadata": {
        "colab": {
          "base_uri": "https://localhost:8080/"
        },
        "id": "tj4rctZLObLg",
        "outputId": "fe0b30c0-6f35-49cd-96be-d953c79536c8"
      },
      "execution_count": null,
      "outputs": [
        {
          "output_type": "stream",
          "name": "stdout",
          "text": [
            "9/9 [==============================] - 0s 2ms/step - loss: 3495.6768 - mean_absolute_error: 3495.6768\n"
          ]
        },
        {
          "output_type": "execute_result",
          "data": {
            "text/plain": [
              "[3495.6767578125, 3495.6767578125]"
            ]
          },
          "metadata": {},
          "execution_count": 109
        }
      ]
    },
    {
      "cell_type": "code",
      "source": [
        "#Loss curve\n",
        "\n",
        "pd.DataFrame(history.history).plot()\n",
        "plt.xlabel('Epochs')\n",
        "plt.ylabel('Loss')"
      ],
      "metadata": {
        "colab": {
          "base_uri": "https://localhost:8080/",
          "height": 467
        },
        "id": "thTbG0erQC4Y",
        "outputId": "9923d843-03a8-406f-949b-cddccf5d6bab"
      },
      "execution_count": null,
      "outputs": [
        {
          "output_type": "execute_result",
          "data": {
            "text/plain": [
              "Text(0, 0.5, 'Loss')"
            ]
          },
          "metadata": {},
          "execution_count": 110
        },
        {
          "output_type": "display_data",
          "data": {
            "text/plain": [
              "<Figure size 640x480 with 1 Axes>"
            ],
            "image/png": "[encoded data removed]"
          },
          "metadata": {}
        }
      ]
    },
    {
      "cell_type": "code",
      "source": [
        "X['age'].plot(kind='hist')"
      ],
      "metadata": {
        "colab": {
          "base_uri": "https://localhost:8080/",
          "height": 448
        },
        "id": "3Xqmh7zjSr6o",
        "outputId": "a8c970bb-557e-4c3e-d5de-a59d68a84667"
      },
      "execution_count": null,
      "outputs": [
        {
          "output_type": "execute_result",
          "data": {
            "text/plain": [
              "<Axes: ylabel='Frequency'>"
            ]
          },
          "metadata": {},
          "execution_count": 111
        },
        {
          "output_type": "display_data",
          "data": {
            "text/plain": [
              "<Figure size 640x480 with 1 Axes>"
            ],
            "image/png": "[encoded data removed]"
          },
          "metadata": {}
        }
      ]
    },
    {
      "cell_type": "code",
      "source": [
        "X['bmi'].plot(kind='hist')"
      ],
      "metadata": {
        "colab": {
          "base_uri": "https://localhost:8080/",
          "height": 448
        },
        "id": "zSQyK2tFTLz1",
        "outputId": "fbc59389-a29b-43e7-9b37-9b7f990469eb"
      },
      "execution_count": null,
      "outputs": [
        {
          "output_type": "execute_result",
          "data": {
            "text/plain": [
              "<Axes: ylabel='Frequency'>"
            ]
          },
          "metadata": {},
          "execution_count": 112
        },
        {
          "output_type": "display_data",
          "data": {
            "text/plain": [
              "<Figure size 640x480 with 1 Axes>"
            ],
            "image/png": "[encoded data removed]"
          },
          "metadata": {}
        }
      ]
    },
    {
      "cell_type": "code",
      "source": [],
      "metadata": {
        "id": "yRtRjdjQTWtc"
      },
      "execution_count": null,
      "outputs": []
    }
  ]
}